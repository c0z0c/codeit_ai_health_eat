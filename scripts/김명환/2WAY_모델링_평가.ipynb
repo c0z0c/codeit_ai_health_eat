{
 "cells": [
  {
   "cell_type": "markdown",
   "metadata": {
    "id": "G3tb146HKUGS"
   },
   "source": [
    "# [초급 프로젝트] 4팀_김명환"
   ]
  },
  {
   "cell_type": "markdown",
   "metadata": {
    "id": "hmaVeBaGKUGW"
   },
   "source": [
    "---\n",
    "---"
   ]
  },
  {
   "cell_type": "markdown",
   "metadata": {
    "id": "KzN8SzLMKgH1"
   },
   "source": [
    "# 프로그래밍"
   ]
  },
  {
   "cell_type": "code",
   "execution_count": 1,
   "metadata": {
    "colab": {
     "base_uri": "https://localhost:8080/"
    },
    "executionInfo": {
     "elapsed": 45239,
     "status": "ok",
     "timestamp": 1758110601566,
     "user": {
      "displayName": "dev c0z0c",
      "userId": "08071297324787696567"
     },
     "user_tz": -540
    },
    "id": "ECzUDN-OzK99",
    "outputId": "ef5020ed-f828-4a50-fe11-6e54e70a5ec2"
   },
   "outputs": [
    {
     "name": "stdout",
     "output_type": "stream",
     "text": [
      "로딩완료\n"
     ]
    }
   ],
   "source": [
    "!pip install -q gdown\n",
    "!pip install -q albumentations\n",
    "!pip install -q ultralytics\n",
    "!pip install -q -U ultralytics\n",
    "!pip install -q nbformat\n",
    "!pip install -q roboflow\n",
    "!pip install -q opencv-python\n",
    "!pip install -q opencv-python-headless\n",
    "!pip install -q wandb\n",
    "print(\"로딩완료\")"
   ]
  },
  {
   "cell_type": "code",
   "execution_count": 2,
   "metadata": {
    "colab": {
     "base_uri": "https://localhost:8080/"
    },
    "executionInfo": {
     "elapsed": 2748,
     "status": "ok",
     "timestamp": 1758110604317,
     "user": {
      "displayName": "dev c0z0c",
      "userId": "08071297324787696567"
     },
     "user_tz": -540
    },
    "id": "OAK5c2b2zK9-",
    "outputId": "c83583c4-e7df-493e-9b91-866d2f9c5a41"
   },
   "outputs": [
    {
     "name": "stderr",
     "output_type": "stream",
     "text": [
      "wandb: WARNING If you're specifying your api key in code, ensure this code is not shared publicly.\n",
      "wandb: WARNING Consider setting the WANDB_API_KEY environment variable, or running `wandb login` from the command line.\n",
      "wandb: Appending key for api.wandb.ai to your netrc file: C:\\Users\\sw1\\_netrc\n",
      "wandb: W&B API key is configured. Use `wandb login --relogin` to force relogin\n"
     ]
    }
   ],
   "source": [
    "!wandb login 86a7b8c07184b2efdfb116546a17b1905e41cb5d"
   ]
  },
  {
   "cell_type": "code",
   "execution_count": 3,
   "metadata": {
    "colab": {
     "base_uri": "https://localhost:8080/"
    },
    "executionInfo": {
     "elapsed": 14295,
     "status": "ok",
     "timestamp": 1758110618614,
     "user": {
      "displayName": "dev c0z0c",
      "userId": "08071297324787696567"
     },
     "user_tz": -540
    },
    "id": "47-Qf8TYKUGW",
    "outputId": "3518078e-7943-4d85-f35d-6f86cd50ef24"
   },
   "outputs": [
    {
     "name": "stdout",
     "output_type": "stream",
     "text": [
      "라이브러리 로드 완료 사용장치: cpu\n"
     ]
    }
   ],
   "source": [
    "# 기본 라이브러리 (중복 제거 및 정리)\n",
    "\n",
    "# --- Scikit-learn: 데이터 전처리, 모델, 평가 ---\n",
    "from sklearn.linear_model import LinearRegression\n",
    "from sklearn.preprocessing import PolynomialFeatures, StandardScaler\n",
    "from sklearn.model_selection import train_test_split\n",
    "from sklearn.datasets import (\n",
    "    fetch_california_housing, load_iris, make_moons, make_circles,\n",
    "    load_breast_cancer, load_wine\n",
    ")\n",
    "from sklearn import datasets\n",
    "from sklearn.tree import DecisionTreeRegressor, DecisionTreeClassifier, plot_tree\n",
    "from sklearn.ensemble import RandomForestClassifier\n",
    "from sklearn.metrics import accuracy_score, mean_squared_error, average_precision_score\n",
    "\n",
    "# --- 이미지 처리 ---\n",
    "import cv2\n",
    "from PIL import Image, ImageFilter, ImageDraw\n",
    "import albumentations as A\n",
    "\n",
    "# --- PyTorch: 딥러닝 관련 ---\n",
    "import torch\n",
    "import torch.nn as nn\n",
    "import torch.optim as optim\n",
    "import torch.nn.functional as F\n",
    "import torchvision\n",
    "import torchvision.transforms as transforms\n",
    "from torch.utils.data import Dataset, DataLoader, Subset\n",
    "# 문제 있는 v2 import 제거하고 필요시에만 개별적으로 import\n",
    "# from torchvision.transforms import v2, functional as TF\n",
    "from torchvision.transforms import functional as TF\n",
    "from torchvision.datasets import CocoDetection\n",
    "from torch.nn import CrossEntropyLoss\n",
    "from collections import OrderedDict\n",
    "\n",
    "# --- COCO 데이터셋 관련 ---\n",
    "from pycocotools.coco import COCO\n",
    "from pycocotools import mask as coco_mask\n",
    "\n",
    "# --- 딥러닝 모델 ---\n",
    "import timm\n",
    "\n",
    "# --- 기본 라이브러리 ---\n",
    "import os\n",
    "import sys\n",
    "import re\n",
    "import csv\n",
    "import copy\n",
    "import json\n",
    "import math\n",
    "import random\n",
    "import yaml\n",
    "import shutil\n",
    "import requests\n",
    "import xml.etree.ElementTree as ET\n",
    "from pathlib import Path\n",
    "\n",
    "# --- 데이터 분석 및 시각화 ---\n",
    "import pandas as pd\n",
    "import numpy as np\n",
    "import matplotlib.pyplot as plt\n",
    "import matplotlib.patches as patches\n",
    "\n",
    "# --- 시간 관련 ---\n",
    "from datetime import datetime, timezone, timedelta\n",
    "import pytz\n",
    "\n",
    "# --- 진행률 표시 ---\n",
    "import IPython.display\n",
    "from tqdm.notebook import tqdm\n",
    "\n",
    "# --- 시간대 설정 ---\n",
    "__kst = pytz.timezone('Asia/Seoul')\n",
    "\n",
    "# --- GPU 설정 ---\n",
    "__device = torch.device('cuda' if torch.cuda.is_available() else 'cpu')\n",
    "__device_cpu = torch.device('cpu')\n",
    "\n",
    "# --- 재현 가능한 결과를 위한 시드 설정 ---\n",
    "np.random.seed(42)\n",
    "torch.manual_seed(42)\n",
    "if __device.type == 'cuda':\n",
    "    torch.cuda.manual_seed_all(42)\n",
    "\n",
    "print(f\"라이브러리 로드 완료 사용장치: {__device}\")"
   ]
  },
  {
   "cell_type": "code",
   "execution_count": 4,
   "metadata": {
    "colab": {
     "base_uri": "https://localhost:8080/"
    },
    "executionInfo": {
     "elapsed": 31644,
     "status": "ok",
     "timestamp": 1758110650260,
     "user": {
      "displayName": "dev c0z0c",
      "userId": "08071297324787696567"
     },
     "user_tz": -540
    },
    "id": "gDTmqQCCrBWm",
    "outputId": "b487652e-dfb0-4681-bbff-c3a066daddc4"
   },
   "outputs": [
    {
     "name": "stdout",
     "output_type": "stream",
     "text": [
      "🌐 https://c0z0c.github.io/jupyter_hangul\n",
      "ℹ️ NumPy 2.1.3 (v2.x+): 호환성 모드 적용됨\n",
      "✅ 설정 완료: 한글 폰트, plt 전역 등록, pandas 확장, 캐시 기능\n",
      "pd commit 저장 경로 = d:\\GoogleDrive\\codeit_ai_health_eat\\scripts\\김명환\n",
      "🌐 https://c0z0c.github.io/jupyter_hangul\n",
      "ℹ️ NumPy 2.1.3 (v2.x+): 호환성 모드 적용됨\n",
      "✅ 설정 완료: 한글 폰트, plt 전역 등록, pandas 확장, 캐시 기능\n",
      "pd commit 저장 경로 = d:\\GoogleDrive\\codeit_ai_health_eat\\scripts\\김명환\n"
     ]
    },
    {
     "data": {
      "text/plain": [
       "<module 'helper_c0z0c_dev' from 'd:\\\\GoogleDrive\\\\codeit_ai_health_eat\\\\scripts\\\\김명환\\\\helper_c0z0c_dev.py'>"
      ]
     },
     "execution_count": 4,
     "metadata": {},
     "output_type": "execute_result"
    }
   ],
   "source": [
    "from urllib.request import urlretrieve; urlretrieve(\"https://raw.githubusercontent.com/c0z0c/jupyter_hangul/refs/heads/beta/helper_c0z0c_dev.py\", \"helper_c0z0c_dev.py\")\n",
    "import importlib\n",
    "import helper_c0z0c_dev as helper\n",
    "importlib.reload(helper)"
   ]
  },
  {
   "cell_type": "code",
   "execution_count": 5,
   "metadata": {
    "colab": {
     "base_uri": "https://localhost:8080/"
    },
    "executionInfo": {
     "elapsed": 8662,
     "status": "ok",
     "timestamp": 1758110658923,
     "user": {
      "displayName": "dev c0z0c",
      "userId": "08071297324787696567"
     },
     "user_tz": -540
    },
    "id": "WE6336hF11C5",
    "outputId": "3c99f5c9-1300-4436-a915-c98e5c4d0d5f"
   },
   "outputs": [
    {
     "name": "stdout",
     "output_type": "stream",
     "text": [
      "utils_dir: d:\\GoogleDrive\\codeit_ai_health_eat\\src\\python_modules\\utils\n",
      "sys.path: ['c:\\\\Users\\\\sw1\\\\anaconda3\\\\envs\\\\env_colab_250827\\\\python310.zip', 'c:\\\\Users\\\\sw1\\\\anaconda3\\\\envs\\\\env_colab_250827\\\\DLLs', 'c:\\\\Users\\\\sw1\\\\anaconda3\\\\envs\\\\env_colab_250827\\\\lib', 'c:\\\\Users\\\\sw1\\\\anaconda3\\\\envs\\\\env_colab_250827', '', 'C:\\\\Users\\\\sw1\\\\AppData\\\\Roaming\\\\Python\\\\Python310\\\\site-packages', 'c:\\\\Users\\\\sw1\\\\anaconda3\\\\envs\\\\env_colab_250827\\\\lib\\\\site-packages', 'c:\\\\Users\\\\sw1\\\\anaconda3\\\\envs\\\\env_colab_250827\\\\lib\\\\site-packages\\\\win32', 'c:\\\\Users\\\\sw1\\\\anaconda3\\\\envs\\\\env_colab_250827\\\\lib\\\\site-packages\\\\win32\\\\lib', 'c:\\\\Users\\\\sw1\\\\anaconda3\\\\envs\\\\env_colab_250827\\\\lib\\\\site-packages\\\\Pythonwin', 'd:\\\\GoogleDrive\\\\codeit_ai_health_eat\\\\src\\\\python_modules\\\\utils']\n",
      "🌐 https://c0z0c.github.io/jupyter_hangul\n",
      "ℹ️ NumPy 2.1.3 (v2.x+): 호환성 모드 적용됨\n",
      "✅ 설정 완료: 한글 폰트, plt 전역 등록, pandas 확장, 캐시 기능\n",
      "pd commit 저장 경로 = d:\\GoogleDrive\\codeit_ai_health_eat\\scripts\\김명환\n",
      "🌐 https://c0z0c.github.io/jupyter_hangul\n",
      "ℹ️ NumPy 2.1.3 (v2.x+): 호환성 모드 적용됨\n",
      "✅ 설정 완료: 한글 폰트, plt 전역 등록, pandas 확장, 캐시 기능\n",
      "pd commit 저장 경로 = d:\\GoogleDrive\\codeit_ai_health_eat\\scripts\\김명환\n",
      "helper.__file__: d:\\GoogleDrive\\codeit_ai_health_eat\\scripts\\김명환\\helper_c0z0c_dev.py\n",
      "health_ea_utils.__file__: d:\\GoogleDrive\\codeit_ai_health_eat\\src\\python_modules\\utils\\health_ea_utils.py\n"
     ]
    }
   ],
   "source": [
    "import os, sys\n",
    "from pathlib import Path\n",
    "\n",
    "utils_dir = None\n",
    "if helper.is_colab:\n",
    "    utils_dir = \"/content/drive/MyDrive/codeit_ai_health_eat/src/python_modules/utils\"\n",
    "else:\n",
    "    utils_dir = os.path.join(Path.cwd().drive + '\\\\', 'GoogleDrive', \"codeit_ai_health_eat\", \"src\", \"python_modules\", \"utils\")\n",
    "\n",
    "print(\"utils_dir:\", utils_dir)\n",
    "\n",
    "sys.path.append(str(utils_dir))\n",
    "print(\"sys.path:\", sys.path)\n",
    "import importlib\n",
    "import health_ea_utils as heu\n",
    "importlib.reload(heu)\n",
    "from health_ea_utils import *\n",
    "\n",
    "print(\"helper.__file__:\", helper.__file__)\n",
    "print(\"health_ea_utils.__file__:\", heu.__file__)\n"
   ]
  },
  {
   "cell_type": "code",
   "execution_count": 6,
   "metadata": {
    "colab": {
     "base_uri": "https://localhost:8080/"
    },
    "executionInfo": {
     "elapsed": 14,
     "status": "ok",
     "timestamp": 1758110658958,
     "user": {
      "displayName": "dev c0z0c",
      "userId": "08071297324787696567"
     },
     "user_tz": -540
    },
    "id": "A3JHrVMkzK9_",
    "outputId": "43181538-f413-4dc4-85fa-ca7455575139"
   },
   "outputs": [
    {
     "name": "stdout",
     "output_type": "stream",
     "text": [
      "유틸리티 함수 로드 완료\n"
     ]
    }
   ],
   "source": [
    "def get_tqdm_kwargs():\n",
    "    \"\"\"Widget 오류를 방지하는 안전한 tqdm 설정\"\"\"\n",
    "    return {\n",
    "        'disable': False,\n",
    "        'leave': True,\n",
    "        'file': sys.stdout,\n",
    "        'ascii': True,  # ASCII 문자만 사용\n",
    "        'dynamic_ncols': False,\n",
    "#        'ncols': 80  # 고정 폭\n",
    "    }\n",
    "\n",
    "def drive_root():\n",
    "    root_path = os.path.join(\"D:\\\\\", \"GoogleDrive\")\n",
    "    if helper.is_colab:\n",
    "        root_path = os.path.join(\"/content/drive/MyDrive\")\n",
    "    return root_path\n",
    "\n",
    "def get_path_modeling(add_path = None):\n",
    "    modeling_path = \"modeling_yolo\"\n",
    "    path = os.path.join(drive_root(),modeling_path)\n",
    "    if add_path is not None:\n",
    "        path = os.path.join(path,add_path)\n",
    "    return path\n",
    "\n",
    "def get_path_modeling_release(add_path = None):\n",
    "    modeling_path = \"modeling_yolo\"\n",
    "    path = os.path.join(drive_root(),modeling_path)\n",
    "    if add_path is not None:\n",
    "        path = os.path.join(path,add_path)\n",
    "    return path\n",
    "\n",
    "def print_dir_tree(root, max_depth=2, list_count=3, indent=\"\"):\n",
    "    import os\n",
    "    if max_depth < 0:\n",
    "        return\n",
    "    try:\n",
    "        items = os.listdir(root)\n",
    "    except Exception as e:\n",
    "        print(indent + f\"[Error] {e}\")\n",
    "        return\n",
    "\n",
    "    img_count = len([f for f in os.listdir(root) if f.lower().endswith(('.jpg', '.jpeg', '.png', '.xml', '.inf', '.txt'))])\n",
    "    for item in items:\n",
    "        path = os.path.join(root, item)\n",
    "        if os.path.isdir(path):\n",
    "            print(indent + \"|-- \"+ item)\n",
    "            # 이미지 파일 개수만 출력\n",
    "            img_count = len([f for f in os.listdir(path) if f.lower().endswith(('.jpg', '.jpeg', '.png', '.xml', '.inf', '.txt'))])\n",
    "            if img_count > list_count:\n",
    "                print(indent + \"   \"+ f\"[데이터파일: {img_count}개]\")\n",
    "            print_dir_tree(root=path, max_depth=max_depth-1, list_count=list_count, indent=indent + \"   \")\n",
    "        else:\n",
    "            if list_count < img_count and item.lower().endswith(('.jpg', '.jpeg', '.png', '.xml', '.inf', '.txt')):\n",
    "                continue\n",
    "            print(indent + \"|-- \"+ item)\n",
    "\n",
    "def save_model_dict(model, path, pth_name, kwargs=None):\n",
    "    \"\"\"모델 state_dict와 추가 정보를 저장\"\"\"\n",
    "    def safe_makedirs(path):\n",
    "        \"\"\"안전한 디렉토리 생성\"\"\"\n",
    "        if os.path.exists(path) and not os.path.isdir(path):\n",
    "            os.remove(path)  # 파일이면 삭제\n",
    "        os.makedirs(path, exist_ok=True)\n",
    "\n",
    "    # 디렉토리 생성\n",
    "    safe_makedirs(path)\n",
    "\n",
    "    # 모델 구조 정보 추출\n",
    "    model_info = {\n",
    "        'class_name': model.__class__.__name__,\n",
    "        'init_args': {},\n",
    "        'str': str(model),\n",
    "        'repr': repr(model),\n",
    "        'modules': [m.__class__.__name__ for m in model.modules()],\n",
    "    }\n",
    "\n",
    "    # 생성자 인자 자동 추출(가능한 경우)\n",
    "    if hasattr(model, '__dict__'):\n",
    "        for key in ['in_ch', 'base_ch', 'num_classes', 'out_ch']:\n",
    "            if hasattr(model, key):\n",
    "                model_info['init_args'][key] = getattr(model, key)\n",
    "\n",
    "    # kwargs 처리\n",
    "    extra_info = {}\n",
    "    if kwargs is not None:\n",
    "        if isinstance(kwargs, str):\n",
    "            extra_info = json.loads(kwargs)\n",
    "        elif isinstance(kwargs, dict):\n",
    "            extra_info = kwargs\n",
    "\n",
    "    model_info.update(extra_info)\n",
    "\n",
    "    # 저장할 dict 구성\n",
    "    save_dict = {\n",
    "        'model_state': model.state_dict(),\n",
    "        'class_name': model.__class__.__name__,\n",
    "        'model_info': model_info,\n",
    "    }\n",
    "\n",
    "    save_path = os.path.join(path, f\"{pth_name}.pth\")\n",
    "    torch.save(save_dict, save_path)\n",
    "    return save_path\n",
    "\n",
    "def load_model_dict(path, pth_name=None):\n",
    "    \"\"\"\n",
    "    save_model_dict로 저장한 모델을 불러오는 함수\n",
    "    반환값: (model_state, model_info)\n",
    "    \"\"\"\n",
    "    import torch\n",
    "    load_path = path\n",
    "    if pth_name is not None:\n",
    "        load_path = os.path.join(path, f\"{pth_name}.pth\")\n",
    "    checkpoint = torch.load(load_path, map_location='cpu', weights_only=False)  # <-- 여기 추가\n",
    "    model_state = checkpoint.get('model_state')\n",
    "    model_info = checkpoint.get('model_info')\n",
    "    model_info['file_name'] = os.path.basename(load_path)\n",
    "    return model_state, model_info\n",
    "\n",
    "\n",
    "def search_pth_files(base_path):\n",
    "    \"\"\"\n",
    "    입력된 경로의 하위 폴더들에서 pth 파일들을 검색\n",
    "    \"\"\"\n",
    "    pth_files = []\n",
    "\n",
    "    if not os.path.exists(base_path):\n",
    "        print(f\"경로가 존재하지 않습니다: {base_path}\")\n",
    "        return pth_files\n",
    "\n",
    "    print(f\"pth 파일 검색 시작: {base_path}\")\n",
    "\n",
    "    # 하위 폴더들을 순회하며 pth 파일 검색\n",
    "    for root, dirs, files in os.walk(base_path):\n",
    "        for file in files:\n",
    "            if file.endswith('.pth'):\n",
    "                pth_path = os.path.join(root, file)\n",
    "                pth_files.append(pth_path)\n",
    "\n",
    "    # 결과 정리 및 출력\n",
    "    if pth_files:\n",
    "        print(f\"\\n발견된 pth 파일들 ({len(pth_files)}개):\")\n",
    "        for i, pth_file in enumerate(pth_files, 1):\n",
    "            # 상대 경로로 표시 (base_path 기준)\n",
    "            rel_path = os.path.relpath(pth_file, base_path)\n",
    "            print(f\" {i:2d}. {rel_path}\")\n",
    "    else:\n",
    "        print(\"pth 파일을 찾을 수 없습니다.\")\n",
    "\n",
    "    return pth_files\n",
    "\n",
    "def print_json_tree(data, indent=\"\", max_depth=4, _depth=0, list_count=2, print_value=True):\n",
    "    \"\"\"\n",
    "    JSON 객체를 지정한 단계(max_depth)까지 트리 형태로 출력\n",
    "    - list 타입은 3개 이상일 때 개수만 출력\n",
    "    - 하위 노드가 값일 경우 key(type) 형태로 출력\n",
    "    - print_value=True일 때 key(type): 값 형태로 출력\n",
    "    \"\"\"\n",
    "    if _depth > max_depth:\n",
    "        return\n",
    "    if isinstance(data, dict):\n",
    "        for key, value in data.items():\n",
    "            if isinstance(value, (dict, list)):\n",
    "                print(f\"{indent}|-- {key}\")\n",
    "                print_json_tree(value, indent + \"    \", max_depth, _depth + 1, list_count, print_value)\n",
    "            else:\n",
    "                if print_value:\n",
    "                    print(f\"{indent}|-- {key}({type(value).__name__}): {value if len(str(value)) < 100 else f'{str(value)[:30]}...'}\")\n",
    "                else:\n",
    "                    print(f\"{indent}|-- {key}({type(value).__name__})\")\n",
    "    elif isinstance(data, list):\n",
    "        if len(data) > list_count:\n",
    "            print(f\"{indent}|-- [list] ({len(data)} items)\")\n",
    "        else:\n",
    "            for i, item in enumerate(data):\n",
    "                if isinstance(item, (dict, list)):\n",
    "                    print(f\"{indent}|-- [{i}]\")\n",
    "                    print_json_tree(item, indent + \"    \", max_depth, _depth + 1, list_count, print_value)\n",
    "                else:\n",
    "                    if print_value:\n",
    "                        print(f\"{indent}|-- [{i}]({type(item).__name__}): {item if len(str(item)) < 100 else f'{str(item)[:30]}...'}\")\n",
    "                    else:\n",
    "                        print(f\"{indent}|-- [{i}]({type(item).__name__})\")\n",
    "    else:\n",
    "        if print_value:\n",
    "            print(f\"{indent}{type(data).__name__}: {data if len(str(data)) < 100 else f'{str(data)[:30]}...'}\")\n",
    "        else:\n",
    "            print(f\"{indent}{type(data).__name__}\")\n",
    "\n",
    "def print_dic_tree(data, indent=\"\", max_depth=3, _depth=0):\n",
    "    \"\"\"\n",
    "    PyTorch tensor/딕셔너리/리스트를 git tree 스타일로 출력\n",
    "    \"\"\"\n",
    "    import torch\n",
    "    import numpy as np\n",
    "\n",
    "    if _depth > max_depth:\n",
    "        return\n",
    "    if isinstance(data, dict):\n",
    "        for key, value in data.items():\n",
    "            print(f\"{indent}├─ {key} [{type(value).__name__}]\")\n",
    "            print_dic_tree(value, indent + \"│  \", max_depth, _depth + 1)\n",
    "    elif isinstance(data, (list, tuple)):\n",
    "        for i, item in enumerate(data):\n",
    "            print(f\"{indent}├─ [{i}] [{type(item).__name__}]\")\n",
    "            print_dic_tree(item, indent + \"│  \", max_depth, _depth + 1)\n",
    "    elif torch.is_tensor(data):\n",
    "        shape = tuple(data.shape)\n",
    "        dtype = str(data.dtype)\n",
    "        preview = str(data)\n",
    "        preview_str = preview[:80] + (\"...\" if len(preview) > 80 else \"\")\n",
    "        print(f\"{indent}└─ Tensor shape={shape} dtype={dtype} preview={preview_str}\")\n",
    "    elif isinstance(data, np.ndarray):\n",
    "        shape = data.shape\n",
    "        dtype = data.dtype\n",
    "        preview = str(data)\n",
    "        preview_str = preview[:80] + (\"...\" if len(preview) > 80 else \"\")\n",
    "        print(f\"{indent}└─ ndarray shape={shape} dtype={dtype} preview={preview_str}\")\n",
    "    else:\n",
    "        val_str = str(data)\n",
    "        print(f\"{indent}└─ {type(data).__name__}: {val_str[:80]}{'...' if len(val_str)>80 else ''}\")\n",
    "\n",
    "\n",
    "print(\"유틸리티 함수 로드 완료\")"
   ]
  },
  {
   "cell_type": "markdown",
   "metadata": {
    "id": "1B4qELHp5E9D"
   },
   "source": [
    "# 데이타 다운로드"
   ]
  },
  {
   "cell_type": "code",
   "execution_count": 7,
   "metadata": {
    "executionInfo": {
     "elapsed": 36,
     "status": "ok",
     "timestamp": 1758110658996,
     "user": {
      "displayName": "dev c0z0c",
      "userId": "08071297324787696567"
     },
     "user_tz": -540
    },
    "id": "0o9rB50tzK-A"
   },
   "outputs": [],
   "source": [
    "# download_files={\n",
    "#     'yolo_label_one_class' : r'https://drive.google.com/file/d/177_86k4BuT6JnFnq7ZHJtEjp7jaRbCl2/view?usp=sharing',\n",
    "#     'yolo_label' : r'https://drive.google.com/file/d/1nc-WFcw7lCS7s7VGzN9Kxh80PiBBggez/view?usp=sharing',\n",
    "#     'yolo_resize_one_class' : r'https://drive.google.com/file/d/1Ak0EvkMnuwvcAFvTO-zovIgVcNlROjsS/view?usp=sharing',\n",
    "#     'yolo_resize' : r'https://drive.google.com/file/d/1kpo57qOJhEhrkuzUCEh57ILB5xSPVoFv/view?usp=sharing',\n",
    "# }\n",
    "\n",
    "# download_files={\n",
    "#     'yolo_label' : r'https://fs.mybox.naver.com/file/download.api?resourceKey=YzB6MGN8MzQ3MjU5Nzc1ODU5OTkzNTMyOHxGfDA&svcType=MYBOX-WEB&time=1757776010785',\n",
    "#     'yolo_label_one_class' : r'https://fs.mybox.naver.com/file/download.api?resourceKey=YzB6MGN8MzQ3MjU5Nzc1ODYzOTg5NDExMnxGfDA&svcType=MYBOX-WEB&time=1757776673721',\n",
    "#     'yolo_resize_one_class' : r'https://fs.mybox.naver.com/file/download.api?resourceKey=YzB6MGN8MzQ3MjU5Nzc1ODgwNjk2NDMyMHxGfDA&svcType=MYBOX-WEB&time=1757780142635',\n",
    "#     'yolo_resize' : r'https://fs.mybox.naver.com/file/download.api?resourceKey=YzB6MGN8MzQ3MjU5Nzc1ODY4MDc2MjQ2NHxGfDA&svcType=MYBOX-WEB&time=1757780177672',\n",
    "# }\n",
    "\n",
    "download_files={\n",
    "    # 'yolo_label' : r'https://fs.mybox.naver.com/file/download.api?resourceKey=YzB6MGN8MzQ3MjU5Nzc1ODU5OTkzNTMyOHxGfDA&svcType=MYBOX-WEB&time=1757776010785',\n",
    "    # 'yolo_label_one_class' : r'https://fs.mybox.naver.com/file/download.api?resourceKey=YzB6MGN8MzQ3MjU5Nzc1ODYzOTg5NDExMnxGfDA&svcType=MYBOX-WEB&time=1757776673721',\n",
    "    # 'yolo_resize_one_class' : r'https://fs.mybox.naver.com/file/download.api?resourceKey=YzB6MGN8MzQ3MjU5Nzc1ODgwNjk2NDMyMHxGfDA&svcType=MYBOX-WEB&time=1757780142635',\n",
    "    # 'yolo_resize' : r'https://fs.mybox.naver.com/file/download.api?resourceKey=YzB6MGN8MzQ3MjU5Nzc1ODY4MDc2MjQ2NHxGfDA&svcType=MYBOX-WEB&time=1757780177672',\n",
    "    'yolo_noresize' : r'https://fs.mybox.naver.com/file/download.api?resourceKey=YzB6MGN8MzQ3MjU5Nzc2NDA0ODY2ODI1NnxGfDA&svcType=MYBOX-WEB&time=1757851996107',\n",
    "    #'yolo_noresize_one_class':r'https://fs.mybox.naver.com/file/download.api?resourceKey=YzB6MGN8MzQ3MjU5Nzc2NDgwMDcxODk0NHxGfDA&svcType=MYBOX-WEB&time=1757893856220',\n",
    "}\n",
    "# yolo_noresize = https://fs.mybox.naver.com/file/download.api?resourceKey=YzB6MGN8MzQ3MjU5Nzc2NDA0ODY2ODI1NnxGfDA&svcType=MYBOX-WEB&time=1757851996107\n",
    "# yolo_noresize_one_class = https://fs.mybox.naver.com/file/download.api?resourceKey=YzB6MGN8MzQ3MjU5Nzc2NDgwMDcxODk0NHxGfDA&svcType=MYBOX-WEB&time=1757893856220\n",
    "\n"
   ]
  },
  {
   "cell_type": "code",
   "execution_count": 8,
   "metadata": {
    "colab": {
     "base_uri": "https://localhost:8080/"
    },
    "executionInfo": {
     "elapsed": 29514,
     "status": "ok",
     "timestamp": 1758110688511,
     "user": {
      "displayName": "dev c0z0c",
      "userId": "08071297324787696567"
     },
     "user_tz": -540
    },
    "id": "pdLVsfpwzK-A",
    "outputId": "7fe6fc06-d75e-40c5-bd01-16f387571531"
   },
   "outputs": [
    {
     "name": "stdout",
     "output_type": "stream",
     "text": [
      "local_code_it_ai04: d:\\temp\\code_it_ai04\n",
      "yolo_noresize: https://fs.mybox.naver.com/file/download.api?resourceKey=YzB6MGN8MzQ3MjU5Nzc2NDA0ODY2ODI1NnxGfDA&svcType=MYBOX-WEB&time=1757851996107\n",
      "이미 압축해제된 폴더가 존재합니다: d:\\temp\\code_it_ai04\\yolo_noresize.zip.unzip\n",
      "unzipfile: d:\\temp\\code_it_ai04\\yolo_noresize.zip.unzip\n"
     ]
    }
   ],
   "source": [
    "import gdown\n",
    "def download_gdrive_file(url, output_path, ignore=True):\n",
    "    # 공유 링크에서 파일 ID 추출\n",
    "    if os.path.exists(output_path):\n",
    "        if ignore:\n",
    "            os.remove(output_path)\n",
    "        else:\n",
    "            return\n",
    "\n",
    "    file_id_match = re.search(r'/d/([a-zA-Z0-9_-]+)', url)\n",
    "    if not file_id_match:\n",
    "        raise ValueError(\"Google Drive 파일 ID를 찾을 수 없습니다.\")\n",
    "    file_id = file_id_match.group(1)\n",
    "    gdown.download(f\"https://drive.google.com/uc?id={file_id}\", output_path, quiet=False)\n",
    "\n",
    "def download_http(url, target, ignore=True):\n",
    "    \"\"\"\n",
    "    HTTP 파일 다운로드 함수 (진행률 표시)\n",
    "    url: 다운로드할 파일 URL\n",
    "    target: 저장할 파일 경로\n",
    "    ignore: True면 기존 파일 삭제 후 다운로드, False면 파일 있으면 건너뜀\n",
    "    \"\"\"\n",
    "    if os.path.exists(target):\n",
    "        if ignore:\n",
    "            os.remove(target)\n",
    "        else:\n",
    "            print(f\"이미 파일이 존재합니다: {target}\")\n",
    "            return target\n",
    "\n",
    "    response = requests.get(url, stream=True)\n",
    "    total = int(response.headers.get('content-length', 0))\n",
    "    with open(target, 'wb') as file, tqdm(\n",
    "        desc=f\"Downloading {os.path.basename(target)}\",\n",
    "        total=total,\n",
    "        unit='B',\n",
    "        unit_scale=True,\n",
    "        unit_divisor=1024,\n",
    "        ascii=True\n",
    "    ) as bar:\n",
    "        for data in response.iter_content(chunk_size=1024):\n",
    "            size = file.write(data)\n",
    "            bar.update(size)\n",
    "    print(f\"다운로드 완료: {target}\")\n",
    "    return target\n",
    "\n",
    "# local_code_it_ai04 = os.path.join( '~/.cache/' if helper.is_colab else Path.cwd().drive + '\\\\'\n",
    "#                                   ,'temp'\n",
    "#                                   , 'code_it_ai04')\n",
    "\n",
    "if helper.is_colab:\n",
    "    local_code_it_ai04 = os.path.join( '/content/', 'code_it_ai04')\n",
    "else:\n",
    "    local_code_it_ai04 = os.path.join( Path.cwd().drive + '\\\\', 'temp', 'code_it_ai04')\n",
    "\n",
    "print(\"local_code_it_ai04:\", local_code_it_ai04)\n",
    "\n",
    "os.makedirs(local_code_it_ai04, exist_ok=True)  # 폴더 생성 코드 추가\n",
    "unzip_paths = []\n",
    "for key, url in download_files.items():\n",
    "    print(f\"{key}: {url}\")\n",
    "    zipfile = os.path.join(local_code_it_ai04, f'{key}.zip')\n",
    "    unzip_path = os.path.join(local_code_it_ai04, f'{key}.zip.unzip')\n",
    "    if os.path.exists(unzip_path):\n",
    "        print(f\"이미 압축해제된 폴더가 존재합니다: {unzip_path}\")\n",
    "        print('unzipfile:', unzip_path)\n",
    "        unzip_paths.append(unzip_path)\n",
    "        continue\n",
    "    #download_gdrive_file(url, os.path.join(local_code_it_ai04, f'{key}.zip'), ignore=False)\n",
    "    download_http(url, zipfile, ignore=False)\n",
    "    unzip_path_list = heu.unzip([os.path.join(local_code_it_ai04, f'{key}.zip')])\n",
    "    # for p in unzip_path_list:\n",
    "    #     unzip_paths.append(p)\n",
    "    print('unzip_path_list:', unzip_path_list)\n",
    "    unzip_paths.extend(unzip_path_list)\n"
   ]
  },
  {
   "cell_type": "markdown",
   "metadata": {
    "id": "JfapF4EsMlGp"
   },
   "source": [
    "### > 설정 < 플레그"
   ]
  },
  {
   "cell_type": "code",
   "execution_count": 9,
   "metadata": {
    "colab": {
     "base_uri": "https://localhost:8080/"
    },
    "executionInfo": {
     "elapsed": 31,
     "status": "ok",
     "timestamp": 1758110690703,
     "user": {
      "displayName": "dev c0z0c",
      "userId": "08071297324787696567"
     },
     "user_tz": -540
    },
    "id": "CeqV3DhnYIZT",
    "outputId": "8e19fb98-f7ed-4c10-ec48-bce97ab6c32c"
   },
   "outputs": [
    {
     "name": "stdout",
     "output_type": "stream",
     "text": [
      "['d:\\\\temp\\\\code_it_ai04\\\\yolo_noresize.zip.unzip']\n",
      "d:\\temp\\code_it_ai04\\yolo_noresize.zip.unzip\n",
      "d:\\temp\\code_it_ai04\\yolo_noresize.zip.unzip\\dataset.yaml\n"
     ]
    }
   ],
   "source": [
    "yolo_dataset_path =unzip_paths[0]\n",
    "yaml_path = os.path.join(yolo_dataset_path, \"dataset.yaml\")\n",
    "\n",
    "print(unzip_paths)\n",
    "print(yolo_dataset_path)\n",
    "print(yaml_path)\n",
    "\n",
    "with open(yaml_path, 'r') as f:\n",
    "    dataset_config = yaml.safe_load(f)\n",
    "test_images = [str(p) for p in Path(os.path.join(yolo_dataset_path, dataset_config['test'])).glob(\"*.png\")]\n",
    "test_images = [str(p) for p in Path(os.path.join(yolo_dataset_path, dataset_config['test'])).glob(\"*.jpg\")]"
   ]
  },
  {
   "cell_type": "code",
   "execution_count": 10,
   "metadata": {},
   "outputs": [],
   "source": [
    "import os, sys\n",
    "from pathlib import Path\n",
    "user_dir = Path(drive_root()) / \"codeit_ai_health_eat\" / \"scripts\" / \"김명환\"\n",
    "sys.path.insert(0, str(user_dir.resolve()))\n",
    "import PillAnalysisEngine as PillAnalysisEngine\n",
    "import importlib; importlib.reload(PillAnalysisEngine)\n",
    "from PillAnalysisEngine import PillAnalysisEngine"
   ]
  },
  {
   "cell_type": "code",
   "execution_count": 11,
   "metadata": {
    "colab": {
     "base_uri": "https://localhost:8080/"
    },
    "id": "TlQD3nMwJjmI",
    "outputId": "2c3615d7-7cb7-4269-99ba-454a786fbf57"
   },
   "outputs": [
    {
     "name": "stdout",
     "output_type": "stream",
     "text": [
      "d:\\GoogleDrive\\codeit_ai_health_eat\n",
      "d:\\GoogleDrive\\codeit_ai_health_eat\\src\\python_modules\\modeling\n",
      "d:\\GoogleDrive\\codeit_ai_health_eat\\src\\python_modules\\data\n",
      "True d:\\GoogleDrive\\codeit_ai_health_eat\\src\\python_modules\\modeling\\yolo\\yolov8m_yolo_noresize_one_class_20250915_0858\\weights\\best.pt\n",
      "True d:\\GoogleDrive\\codeit_ai_health_eat\\src\\python_modules\\modeling\\resnet152_20250917_234459\\best.pth\n"
     ]
    },
    {
     "name": "stderr",
     "output_type": "stream",
     "text": [
      "이미지 검출 및 저장: 100%|██████████| 1/1 [00:08<00:00,  8.97s/it]"
     ]
    },
    {
     "name": "stdout",
     "output_type": "stream",
     "text": [
      "   annotation_id image_id category_id bbox_x bbox_y bbox_w bbox_h  score\n",
      " 0             1        1        4542    562     62    389    416 0.3305\n",
      " 1             2        1        1899    158    252    203    122 0.5793\n",
      " 2             3        1       24849    173    743    178    283 0.9778\n",
      " 3             4        1       27925    599    676    247    476 0.3729\n",
      "CSV 파일 저장 완료: D:\\GoogleDrive\\codeit_ai_health_eat\\scripts\\김명환\\test_result_20250918_203720\\result_2way_20250918_203720.csv\n"
     ]
    },
    {
     "name": "stderr",
     "output_type": "stream",
     "text": [
      "\n"
     ]
    }
   ],
   "source": [
    "def save_all_detection_images():\n",
    "    \"\"\"모든 테스트 이미지에 대해 검출 결과를 이미지로 저장하고 CSV 파일도 생성\"\"\"\n",
    "    import pandas as pd\n",
    "    import matplotlib.patches as mpatches\n",
    "\n",
    "    # 결과 저장 폴더 생성\n",
    "    timestamp = datetime.now(__kst).strftime(\"%Y%m%d_%H%M%S\")\n",
    "    result_folder_name = f'test_result_{timestamp}'\n",
    "\n",
    "    output_folder = os.path.join(drive_root(),\n",
    "                                'codeit_ai_health_eat',\n",
    "                                'scripts',\n",
    "                                '김명환',\n",
    "                                result_folder_name)\n",
    "\n",
    "    os.makedirs(output_folder, exist_ok=True)\n",
    "\n",
    "    # print(f\"검출 결과 이미지 저장 및 CSV 생성 시작...\")\n",
    "    # print(f\"저장 폴더: {output_folder}\")\n",
    "\n",
    "    # CSV 관련 변수\n",
    "    rows_list = []\n",
    "    csv_rows = []\n",
    "    csv_headers = ['annotation_id', 'image_id', 'category_id', 'bbox_x', 'bbox_y', 'bbox_w', 'bbox_h', 'score']\n",
    "\n",
    "    saved_images = []\n",
    "    annotation_id = 1\n",
    "\n",
    "    #test_images_simple = test_images\n",
    "    test_images_simple = test_images[:1]\n",
    "\n",
    "    pillEngine = PillAnalysisEngine()\n",
    "    for i, image_path in enumerate(tqdm(test_images_simple, desc=\"이미지 검출 및 저장\")):\n",
    "\n",
    "        result_json = pillEngine.analyze_image(image_path)\n",
    "        basename = os.path.basename(image_path).split('.')[0]\n",
    "        pillEngine.save_img(pillEngine.image_result(result_json), os.path.join(output_folder, f\"result_{basename}.jpg\"))\n",
    "        \n",
    "        annotation_id, rows = pillEngine.result_json_to_csv_rows(result_json, image_path, annotation_id)\n",
    "        rows_list.extend(rows)\n",
    "        #print(annotation_id, rows)\n",
    "\n",
    "    pd.DataFrame(rows_list, columns=csv_headers).head_att(10)\n",
    "    \n",
    "    # CSV 파일로 저장\n",
    "    csv_path = os.path.join(output_folder, f\"result_2way_{timestamp}.csv\")\n",
    "    os.makedirs(output_folder, exist_ok=True)\n",
    "    pd.DataFrame(rows_list, columns=csv_headers).to_csv(csv_path, index=False)\n",
    "    print(f\"CSV 파일 저장 완료: {csv_path}\")\n",
    "\n",
    "# 실행\n",
    "#output_path, saved_images, results_df, csv_path = save_all_detection_images()\n",
    "\n",
    "save_all_detection_images()"
   ]
  },
  {
   "cell_type": "code",
   "execution_count": null,
   "metadata": {
    "executionInfo": {
     "elapsed": 1,
     "status": "ok",
     "timestamp": 1758110709975,
     "user": {
      "displayName": "dev c0z0c",
      "userId": "08071297324787696567"
     },
     "user_tz": -540
    },
    "id": "zQ9jm1yjzK-C"
   },
   "outputs": [],
   "source": []
  }
 ],
 "metadata": {
  "accelerator": "GPU",
  "colab": {
   "gpuType": "L4",
   "machine_shape": "hm",
   "provenance": []
  },
  "kernelspec": {
   "display_name": "env_colab_250827",
   "language": "python",
   "name": "python3"
  },
  "language_info": {
   "codemirror_mode": {
    "name": "ipython",
    "version": 3
   },
   "file_extension": ".py",
   "mimetype": "text/x-python",
   "name": "python",
   "nbconvert_exporter": "python",
   "pygments_lexer": "ipython3",
   "version": "3.10.18"
  },
  "widgets": {
   "application/vnd.jupyter.widget-state+json": {
    "045a6a8a089f451ab07baad56fc2d1cc": {
     "model_module": "@jupyter-widgets/base",
     "model_module_version": "1.2.0",
     "model_name": "LayoutModel",
     "state": {
      "_model_module": "@jupyter-widgets/base",
      "_model_module_version": "1.2.0",
      "_model_name": "LayoutModel",
      "_view_count": null,
      "_view_module": "@jupyter-widgets/base",
      "_view_module_version": "1.2.0",
      "_view_name": "LayoutView",
      "align_content": null,
      "align_items": null,
      "align_self": null,
      "border": null,
      "bottom": null,
      "display": null,
      "flex": null,
      "flex_flow": null,
      "grid_area": null,
      "grid_auto_columns": null,
      "grid_auto_flow": null,
      "grid_auto_rows": null,
      "grid_column": null,
      "grid_gap": null,
      "grid_row": null,
      "grid_template_areas": null,
      "grid_template_columns": null,
      "grid_template_rows": null,
      "height": null,
      "justify_content": null,
      "justify_items": null,
      "left": null,
      "margin": null,
      "max_height": null,
      "max_width": null,
      "min_height": null,
      "min_width": null,
      "object_fit": null,
      "object_position": null,
      "order": null,
      "overflow": null,
      "overflow_x": null,
      "overflow_y": null,
      "padding": null,
      "right": null,
      "top": null,
      "visibility": null,
      "width": null
     }
    },
    "0ba638a406a64396bf8bea5637ce4b86": {
     "model_module": "@jupyter-widgets/base",
     "model_module_version": "1.2.0",
     "model_name": "LayoutModel",
     "state": {
      "_model_module": "@jupyter-widgets/base",
      "_model_module_version": "1.2.0",
      "_model_name": "LayoutModel",
      "_view_count": null,
      "_view_module": "@jupyter-widgets/base",
      "_view_module_version": "1.2.0",
      "_view_name": "LayoutView",
      "align_content": null,
      "align_items": null,
      "align_self": null,
      "border": null,
      "bottom": null,
      "display": null,
      "flex": null,
      "flex_flow": null,
      "grid_area": null,
      "grid_auto_columns": null,
      "grid_auto_flow": null,
      "grid_auto_rows": null,
      "grid_column": null,
      "grid_gap": null,
      "grid_row": null,
      "grid_template_areas": null,
      "grid_template_columns": null,
      "grid_template_rows": null,
      "height": null,
      "justify_content": null,
      "justify_items": null,
      "left": null,
      "margin": null,
      "max_height": null,
      "max_width": null,
      "min_height": null,
      "min_width": null,
      "object_fit": null,
      "object_position": null,
      "order": null,
      "overflow": null,
      "overflow_x": null,
      "overflow_y": null,
      "padding": null,
      "right": null,
      "top": null,
      "visibility": null,
      "width": null
     }
    },
    "0e01611668ae462583bee7bd908c8cba": {
     "model_module": "@jupyter-widgets/controls",
     "model_module_version": "1.5.0",
     "model_name": "DescriptionStyleModel",
     "state": {
      "_model_module": "@jupyter-widgets/controls",
      "_model_module_version": "1.5.0",
      "_model_name": "DescriptionStyleModel",
      "_view_count": null,
      "_view_module": "@jupyter-widgets/base",
      "_view_module_version": "1.2.0",
      "_view_name": "StyleView",
      "description_width": ""
     }
    },
    "69fdc34634434cc0ae686320ae227227": {
     "model_module": "@jupyter-widgets/controls",
     "model_module_version": "1.5.0",
     "model_name": "ProgressStyleModel",
     "state": {
      "_model_module": "@jupyter-widgets/controls",
      "_model_module_version": "1.5.0",
      "_model_name": "ProgressStyleModel",
      "_view_count": null,
      "_view_module": "@jupyter-widgets/base",
      "_view_module_version": "1.2.0",
      "_view_name": "StyleView",
      "bar_color": null,
      "description_width": ""
     }
    },
    "74ff257ef53949509cca03781d37ad3a": {
     "model_module": "@jupyter-widgets/controls",
     "model_module_version": "1.5.0",
     "model_name": "HTMLModel",
     "state": {
      "_dom_classes": [],
      "_model_module": "@jupyter-widgets/controls",
      "_model_module_version": "1.5.0",
      "_model_name": "HTMLModel",
      "_view_count": null,
      "_view_module": "@jupyter-widgets/controls",
      "_view_module_version": "1.5.0",
      "_view_name": "HTMLView",
      "description": "",
      "description_tooltip": null,
      "layout": "IPY_MODEL_0ba638a406a64396bf8bea5637ce4b86",
      "placeholder": "​",
      "style": "IPY_MODEL_f9ed5f2505ad43b397bef055e140b7a7",
      "value": "model.safetensors: 100%"
     }
    },
    "7b9e89e3163b4ec0882428fb7fa13b5d": {
     "model_module": "@jupyter-widgets/base",
     "model_module_version": "1.2.0",
     "model_name": "LayoutModel",
     "state": {
      "_model_module": "@jupyter-widgets/base",
      "_model_module_version": "1.2.0",
      "_model_name": "LayoutModel",
      "_view_count": null,
      "_view_module": "@jupyter-widgets/base",
      "_view_module_version": "1.2.0",
      "_view_name": "LayoutView",
      "align_content": null,
      "align_items": null,
      "align_self": null,
      "border": null,
      "bottom": null,
      "display": null,
      "flex": null,
      "flex_flow": null,
      "grid_area": null,
      "grid_auto_columns": null,
      "grid_auto_flow": null,
      "grid_auto_rows": null,
      "grid_column": null,
      "grid_gap": null,
      "grid_row": null,
      "grid_template_areas": null,
      "grid_template_columns": null,
      "grid_template_rows": null,
      "height": null,
      "justify_content": null,
      "justify_items": null,
      "left": null,
      "margin": null,
      "max_height": null,
      "max_width": null,
      "min_height": null,
      "min_width": null,
      "object_fit": null,
      "object_position": null,
      "order": null,
      "overflow": null,
      "overflow_x": null,
      "overflow_y": null,
      "padding": null,
      "right": null,
      "top": null,
      "visibility": null,
      "width": null
     }
    },
    "926bca60cb7d4310a56160095c002236": {
     "model_module": "@jupyter-widgets/controls",
     "model_module_version": "1.5.0",
     "model_name": "FloatProgressModel",
     "state": {
      "_dom_classes": [],
      "_model_module": "@jupyter-widgets/controls",
      "_model_module_version": "1.5.0",
      "_model_name": "FloatProgressModel",
      "_view_count": null,
      "_view_module": "@jupyter-widgets/controls",
      "_view_module_version": "1.5.0",
      "_view_name": "ProgressView",
      "bar_style": "success",
      "description": "",
      "description_tooltip": null,
      "layout": "IPY_MODEL_045a6a8a089f451ab07baad56fc2d1cc",
      "max": 49335454,
      "min": 0,
      "orientation": "horizontal",
      "style": "IPY_MODEL_69fdc34634434cc0ae686320ae227227",
      "value": 49335454
     }
    },
    "b90a2ea8184d4015bd9317d23dba3b1a": {
     "model_module": "@jupyter-widgets/base",
     "model_module_version": "1.2.0",
     "model_name": "LayoutModel",
     "state": {
      "_model_module": "@jupyter-widgets/base",
      "_model_module_version": "1.2.0",
      "_model_name": "LayoutModel",
      "_view_count": null,
      "_view_module": "@jupyter-widgets/base",
      "_view_module_version": "1.2.0",
      "_view_name": "LayoutView",
      "align_content": null,
      "align_items": null,
      "align_self": null,
      "border": null,
      "bottom": null,
      "display": null,
      "flex": null,
      "flex_flow": null,
      "grid_area": null,
      "grid_auto_columns": null,
      "grid_auto_flow": null,
      "grid_auto_rows": null,
      "grid_column": null,
      "grid_gap": null,
      "grid_row": null,
      "grid_template_areas": null,
      "grid_template_columns": null,
      "grid_template_rows": null,
      "height": null,
      "justify_content": null,
      "justify_items": null,
      "left": null,
      "margin": null,
      "max_height": null,
      "max_width": null,
      "min_height": null,
      "min_width": null,
      "object_fit": null,
      "object_position": null,
      "order": null,
      "overflow": null,
      "overflow_x": null,
      "overflow_y": null,
      "padding": null,
      "right": null,
      "top": null,
      "visibility": null,
      "width": null
     }
    },
    "cb4adbdcd3d8443fb4916b6b35470e23": {
     "model_module": "@jupyter-widgets/controls",
     "model_module_version": "1.5.0",
     "model_name": "HTMLModel",
     "state": {
      "_dom_classes": [],
      "_model_module": "@jupyter-widgets/controls",
      "_model_module_version": "1.5.0",
      "_model_name": "HTMLModel",
      "_view_count": null,
      "_view_module": "@jupyter-widgets/controls",
      "_view_module_version": "1.5.0",
      "_view_name": "HTMLView",
      "description": "",
      "description_tooltip": null,
      "layout": "IPY_MODEL_b90a2ea8184d4015bd9317d23dba3b1a",
      "placeholder": "​",
      "style": "IPY_MODEL_0e01611668ae462583bee7bd908c8cba",
      "value": " 49.3M/49.3M [00:00&lt;00:00, 121MB/s]"
     }
    },
    "d0842f0e460a493bbf2cc75c020b7850": {
     "model_module": "@jupyter-widgets/controls",
     "model_module_version": "1.5.0",
     "model_name": "HBoxModel",
     "state": {
      "_dom_classes": [],
      "_model_module": "@jupyter-widgets/controls",
      "_model_module_version": "1.5.0",
      "_model_name": "HBoxModel",
      "_view_count": null,
      "_view_module": "@jupyter-widgets/controls",
      "_view_module_version": "1.5.0",
      "_view_name": "HBoxView",
      "box_style": "",
      "children": [
       "IPY_MODEL_74ff257ef53949509cca03781d37ad3a",
       "IPY_MODEL_926bca60cb7d4310a56160095c002236",
       "IPY_MODEL_cb4adbdcd3d8443fb4916b6b35470e23"
      ],
      "layout": "IPY_MODEL_7b9e89e3163b4ec0882428fb7fa13b5d"
     }
    },
    "f9ed5f2505ad43b397bef055e140b7a7": {
     "model_module": "@jupyter-widgets/controls",
     "model_module_version": "1.5.0",
     "model_name": "DescriptionStyleModel",
     "state": {
      "_model_module": "@jupyter-widgets/controls",
      "_model_module_version": "1.5.0",
      "_model_name": "DescriptionStyleModel",
      "_view_count": null,
      "_view_module": "@jupyter-widgets/base",
      "_view_module_version": "1.2.0",
      "_view_name": "StyleView",
      "description_width": ""
     }
    }
   }
  }
 },
 "nbformat": 4,
 "nbformat_minor": 0
}
