{
 "cells": [
  {
   "cell_type": "markdown",
   "metadata": {
    "id": "G3tb146HKUGS"
   },
   "source": [
    "# [초급 프로젝트] 4팀_김명환"
   ]
  },
  {
   "cell_type": "markdown",
   "metadata": {
    "id": "hmaVeBaGKUGW"
   },
   "source": [
    "---\n",
    "---"
   ]
  },
  {
   "cell_type": "markdown",
   "metadata": {
    "id": "KzN8SzLMKgH1"
   },
   "source": [
    "# 프로그래밍"
   ]
  },
  {
   "cell_type": "code",
   "execution_count": null,
   "metadata": {
    "colab": {
     "base_uri": "https://localhost:8080/"
    },
    "executionInfo": {
     "elapsed": 44564,
     "status": "ok",
     "timestamp": 1757929912925,
     "user": {
      "displayName": "dev c0z0c",
      "userId": "08071297324787696567"
     },
     "user_tz": -540
    },
    "id": "ECzUDN-OzK99",
    "outputId": "7daf9dfe-edfb-4925-dcd9-eb450e81c7df"
   },
   "outputs": [],
   "source": [
    "!pip install -q gdown\n",
    "!pip install -q albumentations\n",
    "!pip install -q ultralytics\n",
    "!pip install -q -U ultralytics\n",
    "!pip install -q nbformat\n",
    "!pip install -q roboflow\n",
    "!pip install -q opencv-python\n",
    "!pip install -q opencv-python-headless\n",
    "!pip install -q wandb\n",
    "print(\"로딩완료\")"
   ]
  },
  {
   "cell_type": "code",
   "execution_count": null,
   "metadata": {
    "colab": {
     "base_uri": "https://localhost:8080/"
    },
    "executionInfo": {
     "elapsed": 2711,
     "status": "ok",
     "timestamp": 1757929915638,
     "user": {
      "displayName": "dev c0z0c",
      "userId": "08071297324787696567"
     },
     "user_tz": -540
    },
    "id": "OAK5c2b2zK9-",
    "outputId": "0a7e5417-f03e-4571-b1c8-be26030000f1"
   },
   "outputs": [],
   "source": [
    "!wandb login 86a7b8c07184b2efdfb116546a17b1905e41cb5d"
   ]
  },
  {
   "cell_type": "code",
   "execution_count": null,
   "metadata": {
    "colab": {
     "base_uri": "https://localhost:8080/"
    },
    "executionInfo": {
     "elapsed": 14359,
     "status": "ok",
     "timestamp": 1757929930008,
     "user": {
      "displayName": "dev c0z0c",
      "userId": "08071297324787696567"
     },
     "user_tz": -540
    },
    "id": "47-Qf8TYKUGW",
    "outputId": "90837383-684f-4d74-a1fb-6982ea169d28"
   },
   "outputs": [],
   "source": [
    "# 기본 라이브러리 (중복 제거 및 정리)\n",
    "\n",
    "# --- Scikit-learn: 데이터 전처리, 모델, 평가 ---\n",
    "from sklearn.linear_model import LinearRegression\n",
    "from sklearn.preprocessing import PolynomialFeatures, StandardScaler\n",
    "from sklearn.model_selection import train_test_split\n",
    "from sklearn.datasets import (\n",
    "    fetch_california_housing, load_iris, make_moons, make_circles,\n",
    "    load_breast_cancer, load_wine\n",
    ")\n",
    "from sklearn import datasets\n",
    "from sklearn.tree import DecisionTreeRegressor, DecisionTreeClassifier, plot_tree\n",
    "from sklearn.ensemble import RandomForestClassifier\n",
    "from sklearn.metrics import accuracy_score, mean_squared_error, average_precision_score\n",
    "\n",
    "# --- 이미지 처리 ---\n",
    "import cv2\n",
    "from PIL import Image, ImageFilter, ImageDraw\n",
    "import albumentations as A\n",
    "\n",
    "# --- PyTorch: 딥러닝 관련 ---\n",
    "import torch\n",
    "import torch.nn as nn\n",
    "import torch.optim as optim\n",
    "import torch.nn.functional as F\n",
    "import torchvision\n",
    "import torchvision.transforms as transforms\n",
    "from torch.utils.data import Dataset, DataLoader, Subset\n",
    "# 문제 있는 v2 import 제거하고 필요시에만 개별적으로 import\n",
    "# from torchvision.transforms import v2, functional as TF\n",
    "from torchvision.transforms import functional as TF\n",
    "from torchvision.datasets import CocoDetection\n",
    "from torch.nn import CrossEntropyLoss\n",
    "from collections import OrderedDict\n",
    "\n",
    "# --- COCO 데이터셋 관련 ---\n",
    "from pycocotools.coco import COCO\n",
    "from pycocotools import mask as coco_mask\n",
    "\n",
    "# --- 딥러닝 모델 ---\n",
    "import timm\n",
    "\n",
    "# --- 기본 라이브러리 ---\n",
    "import os\n",
    "import sys\n",
    "import re\n",
    "import csv\n",
    "import copy\n",
    "import json\n",
    "import math\n",
    "import random\n",
    "import yaml\n",
    "import shutil\n",
    "import requests\n",
    "import xml.etree.ElementTree as ET\n",
    "from pathlib import Path\n",
    "\n",
    "# --- 데이터 분석 및 시각화 ---\n",
    "import pandas as pd\n",
    "import numpy as np\n",
    "import matplotlib.pyplot as plt\n",
    "import matplotlib.patches as patches\n",
    "\n",
    "# --- 시간 관련 ---\n",
    "from datetime import datetime, timezone, timedelta\n",
    "import pytz\n",
    "\n",
    "# --- 진행률 표시 ---\n",
    "import IPython.display\n",
    "from tqdm.notebook import tqdm\n",
    "\n",
    "# --- 시간대 설정 ---\n",
    "__kst = pytz.timezone('Asia/Seoul')\n",
    "\n",
    "# --- GPU 설정 ---\n",
    "__device = torch.device('cuda' if torch.cuda.is_available() else 'cpu')\n",
    "__device_cpu = torch.device('cpu')\n",
    "\n",
    "# --- 재현 가능한 결과를 위한 시드 설정 ---\n",
    "np.random.seed(42)\n",
    "torch.manual_seed(42)\n",
    "if __device.type == 'cuda':\n",
    "    torch.cuda.manual_seed_all(42)\n",
    "\n",
    "print(f\"라이브러리 로드 완료 사용장치: {__device}\")"
   ]
  },
  {
   "cell_type": "code",
   "execution_count": null,
   "metadata": {
    "colab": {
     "base_uri": "https://localhost:8080/"
    },
    "executionInfo": {
     "elapsed": 30734,
     "status": "ok",
     "timestamp": 1757929960744,
     "user": {
      "displayName": "dev c0z0c",
      "userId": "08071297324787696567"
     },
     "user_tz": -540
    },
    "id": "gDTmqQCCrBWm",
    "outputId": "f1a6e6de-ef16-4417-ac65-d39f9482f854"
   },
   "outputs": [],
   "source": [
    "from urllib.request import urlretrieve; urlretrieve(\"https://raw.githubusercontent.com/c0z0c/jupyter_hangul/refs/heads/beta/helper_c0z0c_dev.py\", \"helper_c0z0c_dev.py\")\n",
    "import importlib\n",
    "import helper_c0z0c_dev as helper\n",
    "importlib.reload(helper)"
   ]
  },
  {
   "cell_type": "code",
   "execution_count": null,
   "metadata": {
    "colab": {
     "base_uri": "https://localhost:8080/"
    },
    "executionInfo": {
     "elapsed": 8819,
     "status": "ok",
     "timestamp": 1757929969566,
     "user": {
      "displayName": "dev c0z0c",
      "userId": "08071297324787696567"
     },
     "user_tz": -540
    },
    "id": "WE6336hF11C5",
    "outputId": "57c16f4e-8db8-47bc-eab3-b1f3d4da1558"
   },
   "outputs": [],
   "source": [
    "import os, sys\n",
    "from pathlib import Path\n",
    "\n",
    "utils_dir = None\n",
    "if helper.is_colab:\n",
    "    utils_dir = \"/content/drive/MyDrive/codeit_ai_health_eat/src/python_modules/utils\"\n",
    "else:\n",
    "    utils_dir = os.path.join(Path.cwd().drive + '\\\\', 'GoogleDrive', \"codeit_ai_health_eat\", \"src\", \"python_modules\", \"utils\")\n",
    "\n",
    "print(\"utils_dir:\", utils_dir)\n",
    "\n",
    "sys.path.append(str(utils_dir))\n",
    "print(\"sys.path:\", sys.path)\n",
    "import importlib\n",
    "import health_ea_utils as heu\n",
    "importlib.reload(heu)\n",
    "from health_ea_utils import *\n",
    "\n",
    "print(\"helper.__file__:\", helper.__file__)\n",
    "print(\"health_ea_utils.__file__:\", heu.__file__)\n"
   ]
  },
  {
   "cell_type": "markdown",
   "metadata": {
    "id": "20rBdRxvKUGZ"
   },
   "source": [
    "# 1. 학습용 데이타 다운로드 및 압축 풀기"
   ]
  },
  {
   "cell_type": "code",
   "execution_count": null,
   "metadata": {
    "colab": {
     "base_uri": "https://localhost:8080/"
    },
    "executionInfo": {
     "elapsed": 21,
     "status": "ok",
     "timestamp": 1757929969609,
     "user": {
      "displayName": "dev c0z0c",
      "userId": "08071297324787696567"
     },
     "user_tz": -540
    },
    "id": "A3JHrVMkzK9_",
    "outputId": "b0eea4c9-f03d-4c45-9365-7551b83ca306"
   },
   "outputs": [],
   "source": [
    "def get_tqdm_kwargs():\n",
    "    \"\"\"Widget 오류를 방지하는 안전한 tqdm 설정\"\"\"\n",
    "    return {\n",
    "        'disable': False,\n",
    "        'leave': True,\n",
    "        'file': sys.stdout,\n",
    "        'ascii': True,  # ASCII 문자만 사용\n",
    "        'dynamic_ncols': False,\n",
    "#        'ncols': 80  # 고정 폭\n",
    "    }\n",
    "\n",
    "def drive_root():\n",
    "    root_path = os.path.join(\"D:\\\\\", \"GoogleDrive\")\n",
    "    if helper.is_colab:\n",
    "        root_path = os.path.join(\"/content/drive/MyDrive\")\n",
    "    return root_path\n",
    "\n",
    "def get_path_modeling(add_path = None):\n",
    "    modeling_path = \"modeling_yolo\"\n",
    "    path = os.path.join(drive_root(),modeling_path)\n",
    "    if add_path is not None:\n",
    "        path = os.path.join(path,add_path)\n",
    "    return path\n",
    "\n",
    "def get_path_modeling_release(add_path = None):\n",
    "    modeling_path = \"modeling_yolo\"\n",
    "    path = os.path.join(drive_root(),modeling_path)\n",
    "    if add_path is not None:\n",
    "        path = os.path.join(path,add_path)\n",
    "    return path\n",
    "\n",
    "def print_dir_tree(root, max_depth=2, list_count=3, indent=\"\"):\n",
    "    import os\n",
    "    if max_depth < 0:\n",
    "        return\n",
    "    try:\n",
    "        items = os.listdir(root)\n",
    "    except Exception as e:\n",
    "        print(indent + f\"[Error] {e}\")\n",
    "        return\n",
    "\n",
    "    img_count = len([f for f in os.listdir(root) if f.lower().endswith(('.jpg', '.jpeg', '.png', '.xml', '.inf', '.txt'))])\n",
    "    for item in items:\n",
    "        path = os.path.join(root, item)\n",
    "        if os.path.isdir(path):\n",
    "            print(indent + \"|-- \"+ item)\n",
    "            # 이미지 파일 개수만 출력\n",
    "            img_count = len([f for f in os.listdir(path) if f.lower().endswith(('.jpg', '.jpeg', '.png', '.xml', '.inf', '.txt'))])\n",
    "            if img_count > list_count:\n",
    "                print(indent + \"   \"+ f\"[데이터파일: {img_count}개]\")\n",
    "            print_dir_tree(root=path, max_depth=max_depth-1, list_count=list_count, indent=indent + \"   \")\n",
    "        else:\n",
    "            if list_count < img_count and item.lower().endswith(('.jpg', '.jpeg', '.png', '.xml', '.inf', '.txt')):\n",
    "                continue\n",
    "            print(indent + \"|-- \"+ item)\n",
    "\n",
    "def save_model_dict(model, path, pth_name, kwargs=None):\n",
    "    \"\"\"모델 state_dict와 추가 정보를 저장\"\"\"\n",
    "    def safe_makedirs(path):\n",
    "        \"\"\"안전한 디렉토리 생성\"\"\"\n",
    "        if os.path.exists(path) and not os.path.isdir(path):\n",
    "            os.remove(path)  # 파일이면 삭제\n",
    "        os.makedirs(path, exist_ok=True)\n",
    "\n",
    "    # 디렉토리 생성\n",
    "    safe_makedirs(path)\n",
    "\n",
    "    # 모델 구조 정보 추출\n",
    "    model_info = {\n",
    "        'class_name': model.__class__.__name__,\n",
    "        'init_args': {},\n",
    "        'str': str(model),\n",
    "        'repr': repr(model),\n",
    "        'modules': [m.__class__.__name__ for m in model.modules()],\n",
    "    }\n",
    "\n",
    "    # 생성자 인자 자동 추출(가능한 경우)\n",
    "    if hasattr(model, '__dict__'):\n",
    "        for key in ['in_ch', 'base_ch', 'num_classes', 'out_ch']:\n",
    "            if hasattr(model, key):\n",
    "                model_info['init_args'][key] = getattr(model, key)\n",
    "\n",
    "    # kwargs 처리\n",
    "    extra_info = {}\n",
    "    if kwargs is not None:\n",
    "        if isinstance(kwargs, str):\n",
    "            extra_info = json.loads(kwargs)\n",
    "        elif isinstance(kwargs, dict):\n",
    "            extra_info = kwargs\n",
    "\n",
    "    model_info.update(extra_info)\n",
    "\n",
    "    # 저장할 dict 구성\n",
    "    save_dict = {\n",
    "        'model_state': model.state_dict(),\n",
    "        'class_name': model.__class__.__name__,\n",
    "        'model_info': model_info,\n",
    "    }\n",
    "\n",
    "    save_path = os.path.join(path, f\"{pth_name}.pth\")\n",
    "    torch.save(save_dict, save_path)\n",
    "    return save_path\n",
    "\n",
    "def load_model_dict(path, pth_name=None):\n",
    "    \"\"\"\n",
    "    save_model_dict로 저장한 모델을 불러오는 함수\n",
    "    반환값: (model_state, model_info)\n",
    "    \"\"\"\n",
    "    import torch\n",
    "    load_path = path\n",
    "    if pth_name is not None:\n",
    "        load_path = os.path.join(path, f\"{pth_name}.pth\")\n",
    "    checkpoint = torch.load(load_path, map_location='cpu', weights_only=False)  # <-- 여기 추가\n",
    "    model_state = checkpoint.get('model_state')\n",
    "    model_info = checkpoint.get('model_info')\n",
    "    model_info['file_name'] = os.path.basename(load_path)\n",
    "    return model_state, model_info\n",
    "\n",
    "\n",
    "def search_pth_files(base_path):\n",
    "    \"\"\"\n",
    "    입력된 경로의 하위 폴더들에서 pth 파일들을 검색\n",
    "    \"\"\"\n",
    "    pth_files = []\n",
    "\n",
    "    if not os.path.exists(base_path):\n",
    "        print(f\"경로가 존재하지 않습니다: {base_path}\")\n",
    "        return pth_files\n",
    "\n",
    "    print(f\"pth 파일 검색 시작: {base_path}\")\n",
    "\n",
    "    # 하위 폴더들을 순회하며 pth 파일 검색\n",
    "    for root, dirs, files in os.walk(base_path):\n",
    "        for file in files:\n",
    "            if file.endswith('.pth'):\n",
    "                pth_path = os.path.join(root, file)\n",
    "                pth_files.append(pth_path)\n",
    "\n",
    "    # 결과 정리 및 출력\n",
    "    if pth_files:\n",
    "        print(f\"\\n발견된 pth 파일들 ({len(pth_files)}개):\")\n",
    "        for i, pth_file in enumerate(pth_files, 1):\n",
    "            # 상대 경로로 표시 (base_path 기준)\n",
    "            rel_path = os.path.relpath(pth_file, base_path)\n",
    "            print(f\" {i:2d}. {rel_path}\")\n",
    "    else:\n",
    "        print(\"pth 파일을 찾을 수 없습니다.\")\n",
    "\n",
    "    return pth_files\n",
    "\n",
    "def print_json_tree(data, indent=\"\", max_depth=4, _depth=0, list_count=2, print_value=True):\n",
    "    \"\"\"\n",
    "    JSON 객체를 지정한 단계(max_depth)까지 트리 형태로 출력\n",
    "    - list 타입은 3개 이상일 때 개수만 출력\n",
    "    - 하위 노드가 값일 경우 key(type) 형태로 출력\n",
    "    - print_value=True일 때 key(type): 값 형태로 출력\n",
    "    \"\"\"\n",
    "    if _depth > max_depth:\n",
    "        return\n",
    "    if isinstance(data, dict):\n",
    "        for key, value in data.items():\n",
    "            if isinstance(value, (dict, list)):\n",
    "                print(f\"{indent}|-- {key}\")\n",
    "                print_json_tree(value, indent + \"    \", max_depth, _depth + 1, list_count, print_value)\n",
    "            else:\n",
    "                if print_value:\n",
    "                    print(f\"{indent}|-- {key}({type(value).__name__}): {value if len(str(value)) < 100 else f'{str(value)[:30]}...'}\")\n",
    "                else:\n",
    "                    print(f\"{indent}|-- {key}({type(value).__name__})\")\n",
    "    elif isinstance(data, list):\n",
    "        if len(data) > list_count:\n",
    "            print(f\"{indent}|-- [list] ({len(data)} items)\")\n",
    "        else:\n",
    "            for i, item in enumerate(data):\n",
    "                if isinstance(item, (dict, list)):\n",
    "                    print(f\"{indent}|-- [{i}]\")\n",
    "                    print_json_tree(item, indent + \"    \", max_depth, _depth + 1, list_count, print_value)\n",
    "                else:\n",
    "                    if print_value:\n",
    "                        print(f\"{indent}|-- [{i}]({type(item).__name__}): {item if len(str(item)) < 100 else f'{str(item)[:30]}...'}\")\n",
    "                    else:\n",
    "                        print(f\"{indent}|-- [{i}]({type(item).__name__})\")\n",
    "    else:\n",
    "        if print_value:\n",
    "            print(f\"{indent}{type(data).__name__}: {data if len(str(data)) < 100 else f'{str(data)[:30]}...'}\")\n",
    "        else:\n",
    "            print(f\"{indent}{type(data).__name__}\")\n",
    "\n",
    "def print_git_tree(data, indent=\"\", max_depth=3, _depth=0):\n",
    "    \"\"\"\n",
    "    PyTorch tensor/딕셔너리/리스트를 git tree 스타일로 출력\n",
    "    \"\"\"\n",
    "    import torch\n",
    "    import numpy as np\n",
    "\n",
    "    if _depth > max_depth:\n",
    "        return\n",
    "    if isinstance(data, dict):\n",
    "        for key, value in data.items():\n",
    "            print(f\"{indent}├─ {key} [{type(value).__name__}]\")\n",
    "            print_git_tree(value, indent + \"│  \", max_depth, _depth + 1)\n",
    "    elif isinstance(data, (list, tuple)):\n",
    "        for i, item in enumerate(data):\n",
    "            print(f\"{indent}├─ [{i}] [{type(item).__name__}]\")\n",
    "            print_git_tree(item, indent + \"│  \", max_depth, _depth + 1)\n",
    "    elif torch.is_tensor(data):\n",
    "        shape = tuple(data.shape)\n",
    "        dtype = str(data.dtype)\n",
    "        preview = str(data)\n",
    "        preview_str = preview[:80] + (\"...\" if len(preview) > 80 else \"\")\n",
    "        print(f\"{indent}└─ Tensor shape={shape} dtype={dtype} preview={preview_str}\")\n",
    "    elif isinstance(data, np.ndarray):\n",
    "        shape = data.shape\n",
    "        dtype = data.dtype\n",
    "        preview = str(data)\n",
    "        preview_str = preview[:80] + (\"...\" if len(preview) > 80 else \"\")\n",
    "        print(f\"{indent}└─ ndarray shape={shape} dtype={dtype} preview={preview_str}\")\n",
    "    else:\n",
    "        val_str = str(data)\n",
    "        print(f\"{indent}└─ {type(data).__name__}: {val_str[:80]}{'...' if len(val_str)>80 else ''}\")\n",
    "\n",
    "\n",
    "print(\"유틸리티 함수 로드 완료\")"
   ]
  },
  {
   "cell_type": "markdown",
   "metadata": {
    "id": "1B4qELHp5E9D"
   },
   "source": [
    "# 데이타 다운로드"
   ]
  },
  {
   "cell_type": "code",
   "execution_count": null,
   "metadata": {
    "executionInfo": {
     "elapsed": 3,
     "status": "ok",
     "timestamp": 1757929969613,
     "user": {
      "displayName": "dev c0z0c",
      "userId": "08071297324787696567"
     },
     "user_tz": -540
    },
    "id": "0o9rB50tzK-A"
   },
   "outputs": [],
   "source": [
    "# download_files={\n",
    "#     'yolo_label_one_class' : r'https://drive.google.com/file/d/177_86k4BuT6JnFnq7ZHJtEjp7jaRbCl2/view?usp=sharing',\n",
    "#     'yolo_label' : r'https://drive.google.com/file/d/1nc-WFcw7lCS7s7VGzN9Kxh80PiBBggez/view?usp=sharing',\n",
    "#     'yolo_resize_one_class' : r'https://drive.google.com/file/d/1Ak0EvkMnuwvcAFvTO-zovIgVcNlROjsS/view?usp=sharing',\n",
    "#     'yolo_resize' : r'https://drive.google.com/file/d/1kpo57qOJhEhrkuzUCEh57ILB5xSPVoFv/view?usp=sharing',\n",
    "# }\n",
    "\n",
    "# download_files={\n",
    "#     'yolo_label' : r'https://fs.mybox.naver.com/file/download.api?resourceKey=YzB6MGN8MzQ3MjU5Nzc1ODU5OTkzNTMyOHxGfDA&svcType=MYBOX-WEB&time=1757776010785',\n",
    "#     'yolo_label_one_class' : r'https://fs.mybox.naver.com/file/download.api?resourceKey=YzB6MGN8MzQ3MjU5Nzc1ODYzOTg5NDExMnxGfDA&svcType=MYBOX-WEB&time=1757776673721',\n",
    "#     'yolo_resize_one_class' : r'https://fs.mybox.naver.com/file/download.api?resourceKey=YzB6MGN8MzQ3MjU5Nzc1ODgwNjk2NDMyMHxGfDA&svcType=MYBOX-WEB&time=1757780142635',\n",
    "#     'yolo_resize' : r'https://fs.mybox.naver.com/file/download.api?resourceKey=YzB6MGN8MzQ3MjU5Nzc1ODY4MDc2MjQ2NHxGfDA&svcType=MYBOX-WEB&time=1757780177672',\n",
    "# }\n",
    "\n",
    "download_files={\n",
    "    # 'yolo_label' : r'https://fs.mybox.naver.com/file/download.api?resourceKey=YzB6MGN8MzQ3MjU5Nzc1ODU5OTkzNTMyOHxGfDA&svcType=MYBOX-WEB&time=1757776010785',\n",
    "    # 'yolo_label_one_class' : r'https://fs.mybox.naver.com/file/download.api?resourceKey=YzB6MGN8MzQ3MjU5Nzc1ODYzOTg5NDExMnxGfDA&svcType=MYBOX-WEB&time=1757776673721',\n",
    "    # 'yolo_resize_one_class' : r'https://fs.mybox.naver.com/file/download.api?resourceKey=YzB6MGN8MzQ3MjU5Nzc1ODgwNjk2NDMyMHxGfDA&svcType=MYBOX-WEB&time=1757780142635',\n",
    "    # 'yolo_resize' : r'https://fs.mybox.naver.com/file/download.api?resourceKey=YzB6MGN8MzQ3MjU5Nzc1ODY4MDc2MjQ2NHxGfDA&svcType=MYBOX-WEB&time=1757780177672',\n",
    "    'yolo_noresize' : r'https://fs.mybox.naver.com/file/download.api?resourceKey=YzB6MGN8MzQ3MjU5Nzc2NDA0ODY2ODI1NnxGfDA&svcType=MYBOX-WEB&time=1757851996107',\n",
    "    #'yolo_noresize_one_class':r'https://fs.mybox.naver.com/file/download.api?resourceKey=YzB6MGN8MzQ3MjU5Nzc2NDgwMDcxODk0NHxGfDA&svcType=MYBOX-WEB&time=1757893856220',\n",
    "}\n",
    "# yolo_noresize = https://fs.mybox.naver.com/file/download.api?resourceKey=YzB6MGN8MzQ3MjU5Nzc2NDA0ODY2ODI1NnxGfDA&svcType=MYBOX-WEB&time=1757851996107\n",
    "# yolo_noresize_one_class = https://fs.mybox.naver.com/file/download.api?resourceKey=YzB6MGN8MzQ3MjU5Nzc2NDgwMDcxODk0NHxGfDA&svcType=MYBOX-WEB&time=1757893856220\n",
    "\n"
   ]
  },
  {
   "cell_type": "code",
   "execution_count": null,
   "metadata": {
    "colab": {
     "base_uri": "https://localhost:8080/"
    },
    "executionInfo": {
     "elapsed": 26980,
     "status": "ok",
     "timestamp": 1757929996594,
     "user": {
      "displayName": "dev c0z0c",
      "userId": "08071297324787696567"
     },
     "user_tz": -540
    },
    "id": "pdLVsfpwzK-A",
    "outputId": "1132629c-1171-4017-e11b-e7119f245a1e"
   },
   "outputs": [],
   "source": [
    "import gdown\n",
    "def download_gdrive_file(url, output_path, ignore=True):\n",
    "    # 공유 링크에서 파일 ID 추출\n",
    "    if os.path.exists(output_path):\n",
    "        if ignore:\n",
    "            os.remove(output_path)\n",
    "        else:\n",
    "            return\n",
    "\n",
    "    file_id_match = re.search(r'/d/([a-zA-Z0-9_-]+)', url)\n",
    "    if not file_id_match:\n",
    "        raise ValueError(\"Google Drive 파일 ID를 찾을 수 없습니다.\")\n",
    "    file_id = file_id_match.group(1)\n",
    "    gdown.download(f\"https://drive.google.com/uc?id={file_id}\", output_path, quiet=False)\n",
    "\n",
    "def download_http(url, target, ignore=True):\n",
    "    \"\"\"\n",
    "    HTTP 파일 다운로드 함수 (진행률 표시)\n",
    "    url: 다운로드할 파일 URL\n",
    "    target: 저장할 파일 경로\n",
    "    ignore: True면 기존 파일 삭제 후 다운로드, False면 파일 있으면 건너뜀\n",
    "    \"\"\"\n",
    "    if os.path.exists(target):\n",
    "        if ignore:\n",
    "            os.remove(target)\n",
    "        else:\n",
    "            print(f\"이미 파일이 존재합니다: {target}\")\n",
    "            return target\n",
    "\n",
    "    response = requests.get(url, stream=True)\n",
    "    total = int(response.headers.get('content-length', 0))\n",
    "    with open(target, 'wb') as file, tqdm(\n",
    "        desc=f\"Downloading {os.path.basename(target)}\",\n",
    "        total=total,\n",
    "        unit='B',\n",
    "        unit_scale=True,\n",
    "        unit_divisor=1024,\n",
    "        ascii=True\n",
    "    ) as bar:\n",
    "        for data in response.iter_content(chunk_size=1024):\n",
    "            size = file.write(data)\n",
    "            bar.update(size)\n",
    "    print(f\"다운로드 완료: {target}\")\n",
    "    return target\n",
    "\n",
    "# local_code_it_ai04 = os.path.join( '~/.cache/' if helper.is_colab else Path.cwd().drive + '\\\\'\n",
    "#                                   ,'temp'\n",
    "#                                   , 'code_it_ai04')\n",
    "\n",
    "if helper.is_colab:\n",
    "    local_code_it_ai04 = os.path.join( '/content/', 'code_it_ai04')\n",
    "else:\n",
    "    local_code_it_ai04 = os.path.join( Path.cwd().drive + '\\\\', 'temp', 'code_it_ai04')\n",
    "\n",
    "print(\"local_code_it_ai04:\", local_code_it_ai04)\n",
    "\n",
    "os.makedirs(local_code_it_ai04, exist_ok=True)  # 폴더 생성 코드 추가\n",
    "unzip_paths = []\n",
    "for key, url in download_files.items():\n",
    "    print(f\"{key}: {url}\")\n",
    "    zipfile = os.path.join(local_code_it_ai04, f'{key}.zip')\n",
    "    unzip_path = os.path.join(local_code_it_ai04, f'{key}.zip.unzip')\n",
    "    if os.path.exists(unzip_path):\n",
    "        print(f\"이미 압축해제된 폴더가 존재합니다: {unzip_path}\")\n",
    "        print('unzipfile:', unzip_path)\n",
    "        unzip_paths.append(unzip_path)\n",
    "        continue\n",
    "    #download_gdrive_file(url, os.path.join(local_code_it_ai04, f'{key}.zip'), ignore=False)\n",
    "    download_http(url, zipfile, ignore=False)\n",
    "    unzip_path_list = heu.unzip([os.path.join(local_code_it_ai04, f'{key}.zip')])\n",
    "    # for p in unzip_path_list:\n",
    "    #     unzip_paths.append(p)\n",
    "    print('unzip_path_list:', unzip_path_list)\n",
    "    unzip_paths.extend(unzip_path_list)\n"
   ]
  },
  {
   "cell_type": "markdown",
   "metadata": {
    "id": "JfapF4EsMlGp"
   },
   "source": [
    "### > 설정 < 플레그"
   ]
  },
  {
   "cell_type": "code",
   "execution_count": null,
   "metadata": {
    "colab": {
     "base_uri": "https://localhost:8080/"
    },
    "executionInfo": {
     "elapsed": 68,
     "status": "ok",
     "timestamp": 1757929996664,
     "user": {
      "displayName": "dev c0z0c",
      "userId": "08071297324787696567"
     },
     "user_tz": -540
    },
    "id": "PjxsUVjUMlGq",
    "outputId": "93636dd1-2217-4cf7-b207-49d062a51a57"
   },
   "outputs": [],
   "source": [
    "# google drive root에 keggle.json 파일 필요합니다.\n",
    "for path in unzip_paths:\n",
    "    print(\"압축해제된 폴더:\", path)\n",
    "\n",
    "yolo_dataset_path = os.path.join(local_code_it_ai04, f'yolo_label_one_class.zip.unzip')\n",
    "yaml_path = os.path.join(yolo_dataset_path, \"dataset.yaml\")\n",
    "\n",
    "def get_path_data():\n",
    "    path = yolo_dataset_path\n",
    "    return path\n",
    "\n",
    "print(\"yaml_path:\", yaml_path)\n",
    "print(\"get_path_data:\", get_path_data())"
   ]
  },
  {
   "cell_type": "markdown",
   "metadata": {
    "id": "ZRk0o5CUMlGq"
   },
   "source": [
    "## YOLO 모델링"
   ]
  },
  {
   "cell_type": "code",
   "execution_count": null,
   "metadata": {
    "colab": {
     "base_uri": "https://localhost:8080/"
    },
    "executionInfo": {
     "elapsed": 12,
     "status": "ok",
     "timestamp": 1757929996678,
     "user": {
      "displayName": "dev c0z0c",
      "userId": "08071297324787696567"
     },
     "user_tz": -540
    },
    "id": "tTZrT8TLMlGq",
    "outputId": "c1fd2e18-5d14-4660-c670-aeb5f5c14b06"
   },
   "outputs": [],
   "source": [
    "from pathlib import Path\n",
    "from ultralytics import YOLO\n",
    "\n",
    "# GPU 확인\n",
    "device = __device\n",
    "print(f\"사용 디바이스: {device}\")\n",
    "print(f\"CUDA 버전: {torch.version.cuda}\")"
   ]
  },
  {
   "cell_type": "markdown",
   "metadata": {
    "id": "d_ZyKQe7MlGu"
   },
   "source": [
    "### 3.3 모델링 엔진"
   ]
  },
  {
   "cell_type": "code",
   "execution_count": null,
   "metadata": {
    "colab": {
     "base_uri": "https://localhost:8080/"
    },
    "executionInfo": {
     "elapsed": 5,
     "status": "ok",
     "timestamp": 1757929996683,
     "user": {
      "displayName": "dev c0z0c",
      "userId": "08071297324787696567"
     },
     "user_tz": -540
    },
    "id": "Jv-fWI-wzK-B",
    "outputId": "737c3c5b-615c-4c14-90d6-6b3f1f9041bf"
   },
   "outputs": [],
   "source": [
    "for path in unzip_paths:\n",
    "    print(f\"압축해제된 폴더: {path}\")\n"
   ]
  },
  {
   "cell_type": "code",
   "execution_count": null,
   "metadata": {
    "colab": {
     "base_uri": "https://localhost:8080/"
    },
    "executionInfo": {
     "elapsed": 1994,
     "status": "ok",
     "timestamp": 1757929998707,
     "user": {
      "displayName": "dev c0z0c",
      "userId": "08071297324787696567"
     },
     "user_tz": -540
    },
    "id": "d1nUkIOuzK-B",
    "outputId": "b048141c-ba7c-4ecf-b201-8eedb3e988b8"
   },
   "outputs": [],
   "source": [
    "def extract_folder_key(folder_path):\n",
    "    \"\"\"\n",
    "    폴더 경로에서 yolo_label_one_class 등 주요 명칭만 추출\n",
    "    예시: 'd:\\\\temp\\\\code_it_ai04\\\\yolo_label_one_class.zip.unzip' → 'yolo_label_one_class'\n",
    "    \"\"\"\n",
    "    # 경로에서 마지막 폴더/파일명 추출\n",
    "    base = os.path.basename(folder_path)\n",
    "    # .zip 또는 .zip.unzip 등 확장자 제거\n",
    "    key = re.sub(r'\\.zip(\\.unzip)?$', '', base)\n",
    "    return key\n",
    "\n",
    "def update_yaml_paths_to_absolute(yaml_path):\n",
    "    with open(yaml_path, 'r') as f:\n",
    "        data = yaml.safe_load(f)\n",
    "\n",
    "    yaml_dir = os.path.dirname(yaml_path)\n",
    "    data['path'] = os.path.normpath(os.path.join(yaml_dir, data['path']))\n",
    "    # for key in ['train', 'val', 'test']:\n",
    "    #     if key in data and not os.path.isabs(data[key]):\n",
    "    #         data[key] = os.path.normpath(os.path.join(yaml_dir, data[key]))\n",
    "\n",
    "    with open(yaml_path, 'w') as f:\n",
    "        yaml.dump(data, f, allow_unicode=True)\n",
    "\n",
    "import wandb\n",
    "wandb.login()  # 또는 wandb.init(project=\"your_project_name\")\n",
    "plt.rcParams['font.family'] = 'DejaVu Sans'\n",
    "plt.rcParams['axes.unicode_minus'] = False\n"
   ]
  },
  {
   "cell_type": "markdown",
   "metadata": {
    "id": "hEEAOgmozK-B"
   },
   "source": [
    "# TEST"
   ]
  },
  {
   "cell_type": "code",
   "execution_count": null,
   "metadata": {
    "colab": {
     "base_uri": "https://localhost:8080/"
    },
    "executionInfo": {
     "elapsed": 21,
     "status": "ok",
     "timestamp": 1757929998728,
     "user": {
      "displayName": "dev c0z0c",
      "userId": "08071297324787696567"
     },
     "user_tz": -540
    },
    "id": "CeqV3DhnYIZT",
    "outputId": "ffa74747-874a-4ad7-bb21-de60eb7b8f04"
   },
   "outputs": [],
   "source": [
    "yolo_dataset_path =unzip_paths[0]\n",
    "yaml_path = os.path.join(yolo_dataset_path, \"dataset.yaml\")\n",
    "\n",
    "print(unzip_paths)\n",
    "print(yolo_dataset_path)\n",
    "print(yaml_path)\n",
    "\n",
    "# /content/code_it_ai04/yolo_noresize.zip.unzip/dataset.yaml\n",
    "\n",
    "with open(yaml_path, 'r') as f:\n",
    "    dataset_config = yaml.safe_load(f)\n",
    "test_images = [str(p) for p in Path(os.path.join(yolo_dataset_path, dataset_config['test'])).glob(\"*.png\")]\n",
    "test_images = [str(p) for p in Path(os.path.join(yolo_dataset_path, dataset_config['test'])).glob(\"*.jpg\")]"
   ]
  },
  {
   "cell_type": "code",
   "execution_count": null,
   "metadata": {
    "colab": {
     "base_uri": "https://localhost:8080/"
    },
    "executionInfo": {
     "elapsed": 120,
     "status": "ok",
     "timestamp": 1757929998849,
     "user": {
      "displayName": "dev c0z0c",
      "userId": "08071297324787696567"
     },
     "user_tz": -540
    },
    "id": "B9yTcEQNYIZT",
    "outputId": "4b71f384-003e-4d9a-c39b-df8eda7d3187"
   },
   "outputs": [],
   "source": [
    "print(test_images)"
   ]
  },
  {
   "cell_type": "code",
   "execution_count": null,
   "metadata": {
    "colab": {
     "base_uri": "https://localhost:8080/"
    },
    "executionInfo": {
     "elapsed": 275,
     "status": "ok",
     "timestamp": 1757930503797,
     "user": {
      "displayName": "dev c0z0c",
      "userId": "08071297324787696567"
     },
     "user_tz": -540
    },
    "id": "9SBXJ2YzYIZT",
    "outputId": "2045beeb-3352-4886-cc01-686df219638e"
   },
   "outputs": [],
   "source": [
    "model_1way_path = os.path.join(get_path_modeling(),\n",
    "                               'yolov8m_yolo_noresize_one_class_20250915_0858',\n",
    "                               'weights','best.pt')\n",
    "model_2way_path = os.path.join(get_path_modeling(),\n",
    "                               'efficientnet_b3_experiment_20250915_211208',\n",
    "                               'best.pth')\n",
    "\n",
    "print(\"model_1way_path:\", model_1way_path, os.path.exists(model_1way_path))\n",
    "print(\"model_2way_path:\", model_2way_path, os.path.exists(model_2way_path))"
   ]
  },
  {
   "cell_type": "code",
   "execution_count": null,
   "metadata": {
    "executionInfo": {
     "elapsed": 5,
     "status": "ok",
     "timestamp": 1757930506426,
     "user": {
      "displayName": "dev c0z0c",
      "userId": "08071297324787696567"
     },
     "user_tz": -540
    },
    "id": "IZfragXrYIZT"
   },
   "outputs": [],
   "source": [
    "CLASS_NAMES = [1899, 2482, 3350, 3482, 3543, 3742, 3831, 4377, 4542, 5093, 5885, 6191, 6562, 10220, 12080, 12246, 12419, 12777, 13394, 13899, 16231, 16261, 16547, 16550, 16687, 18109, 18146, 18356, 19231, 19551, 19606, 19860, 20013, 20237, 20876, 21025, 21324, 21770, 22073, 22346, 22361, 22626, 23202, 23222, 24849, 25366, 25437, 25468, 27652, 27732, 27776, 27925, 27992, 28762, 29344, 29450, 29666, 29870, 30307, 31704, 31862, 31884, 32309, 33008, 33207, 33877, 33879, 34596, 35205, 36636, 38161, 41767, 44198]\n",
    "NUM_CLASSES = len(CLASS_NAMES)"
   ]
  },
  {
   "cell_type": "code",
   "execution_count": null,
   "metadata": {
    "executionInfo": {
     "elapsed": 163,
     "status": "ok",
     "timestamp": 1757930507661,
     "user": {
      "displayName": "dev c0z0c",
      "userId": "08071297324787696567"
     },
     "user_tz": -540
    },
    "id": "UaNd1VGgYIZT"
   },
   "outputs": [],
   "source": [
    "model_1way = YOLO(model_1way_path)\n",
    "model_1way.to(__device)\n",
    "model_1way.eval();"
   ]
  },
  {
   "cell_type": "code",
   "execution_count": null,
   "metadata": {
    "colab": {
     "base_uri": "https://localhost:8080/",
     "height": 402
    },
    "executionInfo": {
     "elapsed": 413,
     "status": "error",
     "timestamp": 1757930516664,
     "user": {
      "displayName": "dev c0z0c",
      "userId": "08071297324787696567"
     },
     "user_tz": -540
    },
    "id": "ngrQNcccYIZT",
    "outputId": "49a3b4d3-3c6d-4e4c-f05b-3d4a5b730e29"
   },
   "outputs": [],
   "source": [
    "model_2way_state, model_2way_info = load_model_dict(model_2way_path)\n",
    "model_2way = timm.create_model(\"efficientnet_b3\", pretrained=True, num_classes=NUM_CLASSES)\n",
    "model_2way.load_state_dict(model_2way_state)\n",
    "model_2way.to(__device)\n",
    "model_2way.eval();"
   ]
  },
  {
   "cell_type": "code",
   "execution_count": null,
   "metadata": {
    "executionInfo": {
     "elapsed": 2,
     "status": "ok",
     "timestamp": 1757930284533,
     "user": {
      "displayName": "dev c0z0c",
      "userId": "08071297324787696567"
     },
     "user_tz": -540
    },
    "id": "WvCdCEGQYIZT"
   },
   "outputs": [],
   "source": [
    "os.environ['YOLO_VERBOSE'] = 'False'\n",
    "os.environ['ULTRALYTICS_LOG_LEVEL'] = 'WARNING'  # 또는 'ERROR'"
   ]
  },
  {
   "cell_type": "code",
   "execution_count": null,
   "metadata": {
    "executionInfo": {
     "elapsed": 5,
     "status": "ok",
     "timestamp": 1757930286501,
     "user": {
      "displayName": "dev c0z0c",
      "userId": "08071297324787696567"
     },
     "user_tz": -540
    },
    "id": "ddy2UniyYIZT"
   },
   "outputs": [],
   "source": [
    "transform = transforms.Compose([\n",
    "    transforms.Resize((300, 300)),\n",
    "    transforms.ToTensor(),\n",
    "    transforms.Normalize(mean=[0.485, 0.456, 0.406],\n",
    "                        std=[0.229, 0.224, 0.225])\n",
    "])\n",
    "\n",
    "def search_class_idx(img, box):\n",
    "    xyxy = box.xyxy[0].cpu().numpy().astype(int)\n",
    "    x1, y1, x2, y2 = xyxy\n",
    "    image = Image.fromarray(img[y1:y2, x1:x2])  # numpy 슬라이싱으로 자르기\n",
    "    input_tensor = transform(image).unsqueeze(0).to(__device)\n",
    "    output = model_2way(input_tensor)\n",
    "    _, predicted = torch.max(output, 1)\n",
    "    cls_idx = predicted.item()\n",
    "    predicted_class = CLASS_NAMES[cls_idx]\n",
    "    return cls_idx, predicted_class, xyxy"
   ]
  },
  {
   "cell_type": "code",
   "execution_count": null,
   "metadata": {
    "colab": {
     "base_uri": "https://localhost:8080/"
    },
    "executionInfo": {
     "elapsed": 26,
     "status": "ok",
     "timestamp": 1757930299332,
     "user": {
      "displayName": "dev c0z0c",
      "userId": "08071297324787696567"
     },
     "user_tz": -540
    },
    "id": "DuiGF2KYYIZT",
    "outputId": "46dfa1a0-6338-4241-8c3b-116a8907b0d6"
   },
   "outputs": [],
   "source": [
    "print(test_images[0])\n",
    "result = model_1way(test_images[0], verbose=False)"
   ]
  },
  {
   "cell_type": "code",
   "execution_count": null,
   "metadata": {
    "colab": {
     "base_uri": "https://localhost:8080/",
     "height": 1000
    },
    "executionInfo": {
     "elapsed": 695,
     "status": "ok",
     "timestamp": 1757930303172,
     "user": {
      "displayName": "dev c0z0c",
      "userId": "08071297324787696567"
     },
     "user_tz": -540
    },
    "id": "XRBvBFwqYIZU",
    "outputId": "ab5d5f22-c5fa-4b70-e9a6-12a10fd10bf9"
   },
   "outputs": [],
   "source": [
    "import matplotlib.patches as patches\n",
    "\n",
    "img = result[0].orig_img.copy()\n",
    "fig, ax = plt.subplots(figsize=(10, 10))\n",
    "ax.imshow(img)\n",
    "\n",
    "for box in result[0].boxes:\n",
    "    cls_idx, predicted_class, xyxy = search_class_idx(img, box)\n",
    "    print(f\"Predicted class : [{cls_idx}]  {predicted_class} {xyxy}\")\n",
    "    xyxy = box.xyxy[0].cpu().numpy().astype(int)\n",
    "    cls = int(box.cls.item())\n",
    "    conf = box.conf.item()\n",
    "    label = f\"{predicted_class} {conf:.2f}\"\n",
    "    color = 'red'  # 빨강색\n",
    "    x1, y1, x2, y2 = xyxy\n",
    "    # int()로 확실하게 정수 변환\n",
    "    rect = patches.Rectangle((int(x1), int(y1)), int(x2-x1), int(y2-y1),\n",
    "                           linewidth=2, edgecolor=color, facecolor='none')\n",
    "    print(f'[{cls}] {predicted_class} {xyxy} {conf:.2f}')\n",
    "    ax.add_patch(rect)\n",
    "    ax.text(int(x1), int(y1)-5, label, color=color, fontsize=12, backgroundcolor='black')\n",
    "\n",
    "plt.axis('off')\n",
    "plt.show()"
   ]
  },
  {
   "cell_type": "code",
   "execution_count": null,
   "metadata": {},
   "outputs": [],
   "source": [
    "def save_detection_image(image_path, save_folder):\n",
    "    \"\"\"이미지에서 약물을 검출하고 bbox와 label을 그려서 저장\"\"\"\n",
    "    result = model_1way(image_path, verbose=False)\n",
    "    \n",
    "    # 이미지 ID (파일명에서 추출)\n",
    "    image_id = os.path.splitext(os.path.basename(image_path))[0]\n",
    "    \n",
    "    # 해당 이미지의 실제 numpy 배열 가져오기\n",
    "    current_img = result[0].orig_img.copy()\n",
    "    \n",
    "    # matplotlib으로 이미지 그리기\n",
    "    fig, ax = plt.subplots(figsize=(12, 12))\n",
    "    ax.imshow(current_img)\n",
    "    \n",
    "    detection_count = 0\n",
    "    \n",
    "    for box in result[0].boxes:\n",
    "        cls_idx, predicted_class, xyxy = search_class_idx(current_img, box)\n",
    "        \n",
    "        # YOLO bbox 좌표\n",
    "        x1, y1, x2, y2 = xyxy\n",
    "        conf = box.conf.item()\n",
    "        \n",
    "        # 바운딩 박스 그리기\n",
    "        rect = patches.Rectangle((int(x1), int(y1)), int(x2-x1), int(y2-y1),\n",
    "                               linewidth=2, edgecolor='red', facecolor='none')\n",
    "        ax.add_patch(rect)\n",
    "        \n",
    "        # 라벨 텍스트\n",
    "        label = f\"{predicted_class} {conf:.2f}\"\n",
    "        ax.text(int(x1), int(y1)-5, label, color='red', fontsize=10, \n",
    "                backgroundcolor='white', alpha=0.8)\n",
    "        \n",
    "        detection_count += 1\n",
    "    \n",
    "    # 축과 여백 제거\n",
    "    ax.set_xlim(0, current_img.shape[1])\n",
    "    ax.set_ylim(current_img.shape[0], 0)  # y축 뒤집기\n",
    "    ax.axis('off')\n",
    "    plt.tight_layout(pad=0)\n",
    "    \n",
    "    # 저장 경로\n",
    "    save_path = os.path.join(save_folder, f\"{image_id}_detected.jpg\")\n",
    "    \n",
    "    # 이미지 저장\n",
    "    plt.savefig(save_path, bbox_inches='tight', pad_inches=0, dpi=150, format='jpg')\n",
    "    plt.close()  # 메모리 절약\n",
    "    \n",
    "    return save_path, detection_count\n",
    "\n",
    "def save_all_detection_images():\n",
    "    \"\"\"모든 테스트 이미지에 대해 검출 결과를 이미지로 저장\"\"\"\n",
    "    \n",
    "    # 결과 저장 폴더 생성\n",
    "    timestamp = datetime.now(__kst).strftime(\"%Y%m%d_%H%M%S\")\n",
    "    result_folder_name = f'result_{timestamp}'\n",
    "    \n",
    "    # output_path 설정 (기존 csv_path와 같은 위치)\n",
    "    output_folder = os.path.join(drive_root(),\n",
    "                                'codeit_ai_health_eat',\n",
    "                                'scripts',\n",
    "                                '김명환',\n",
    "                                result_folder_name)\n",
    "    \n",
    "    # 폴더 생성\n",
    "    os.makedirs(output_folder, exist_ok=True)\n",
    "    \n",
    "    print(f\"검출 결과 이미지 저장 시작...\")\n",
    "    print(f\"저장 폴더: {output_folder}\")\n",
    "    \n",
    "    saved_images = []\n",
    "    total_detections = 0\n",
    "    \n",
    "    for i, image_path in enumerate(tqdm(test_images, desc=\"이미지 검출 및 저장\")):\n",
    "        try:\n",
    "            # 검출 결과 이미지 저장\n",
    "            saved_path, detection_count = save_detection_image(image_path, output_folder)\n",
    "            saved_images.append(saved_path)\n",
    "            total_detections += detection_count\n",
    "            \n",
    "        except Exception as e:\n",
    "            print(f\"이미지 저장 실패 {image_path}: {e}\")\n",
    "            continue\n",
    "    \n",
    "    print(f\"\\n검출 결과 이미지 저장 완료:\")\n",
    "    print(f\"- 처리된 이미지: {len(saved_images)}개\")\n",
    "    print(f\"- 총 검출 객체: {total_detections}개\")\n",
    "    print(f\"- 저장 폴더: {output_folder}\")\n",
    "    \n",
    "    return output_folder, saved_images\n",
    "\n",
    "# 실행\n",
    "output_path, saved_images = save_all_detection_images()"
   ]
  },
  {
   "cell_type": "code",
   "execution_count": null,
   "metadata": {},
   "outputs": [],
   "source": []
  },
  {
   "cell_type": "code",
   "execution_count": null,
   "metadata": {},
   "outputs": [],
   "source": []
  },
  {
   "cell_type": "code",
   "execution_count": null,
   "metadata": {
    "colab": {
     "base_uri": "https://localhost:8080/"
    },
    "executionInfo": {
     "elapsed": 95515,
     "status": "ok",
     "timestamp": 1757930134305,
     "user": {
      "displayName": "dev c0z0c",
      "userId": "08071297324787696567"
     },
     "user_tz": -540
    },
    "id": "7dQpUggKYIZU",
    "outputId": "117040c2-a749-4d6d-aeaa-817f2f8fd16f"
   },
   "outputs": [],
   "source": [
    "# def search_drug_image(image_path):\n",
    "#     \"\"\"이미지에서 약물을 검출하고 분류하여 CSV 형태로 반환\"\"\"\n",
    "#     res = []\n",
    "#     result = model_1way(image_path, verbose=False)\n",
    "\n",
    "#     # 이미지 ID (파일명에서 추출)\n",
    "#     image_id = os.path.splitext(os.path.basename(image_path))[0]\n",
    "\n",
    "#     # 해당 이미지의 실제 numpy 배열 가져오기\n",
    "#     current_img = result[0].orig_img.copy()\n",
    "\n",
    "#     annotation_id = 1  # 각 이미지마다 1부터 시작\n",
    "\n",
    "#     for box in result[0].boxes:\n",
    "#         cls_idx, predicted_class, xyxy = search_class_idx(current_img, box)  # img → current_img\n",
    "#         # print(f\"Predicted class : [{cls_idx}]  {predicted_class} {xyxy}\")\n",
    "\n",
    "#         # YOLO bbox 좌표를 COCO 형식으로 변환\n",
    "#         x1, y1, x2, y2 = xyxy\n",
    "#         bbox_x = float(x1)\n",
    "#         bbox_y = float(y1)\n",
    "#         bbox_w = float(x2 - x1)\n",
    "#         bbox_h = float(y2 - y1)\n",
    "\n",
    "#         # confidence score\n",
    "#         score = float(box.conf.item())\n",
    "\n",
    "#         # category_id는 예측된 약물 코드\n",
    "#         category_id = predicted_class\n",
    "\n",
    "#         # CSV row 데이터\n",
    "#         csv_row = [\n",
    "#             annotation_id, image_id, category_id, bbox_x, bbox_y, bbox_w, bbox_h, score\n",
    "#         ]\n",
    "\n",
    "#         res.append(csv_row)\n",
    "#         annotation_id += 1\n",
    "\n",
    "#     return res\n",
    "\n",
    "# def test_all_images_to_csv():\n",
    "#     \"\"\"모든 테스트 이미지에 대해 예측하고 CSV 형태로 저장\"\"\"\n",
    "#     import pandas as pd\n",
    "\n",
    "#     csv_rows = []\n",
    "#     csv_headers = ['annotation_id', 'image_id', 'category_id', 'bbox_x', 'bbox_y', 'bbox_w', 'bbox_h', 'score']\n",
    "\n",
    "#     print(f\"총 {len(test_images)}개 이미지 처리 중...\")\n",
    "\n",
    "#     for i, image_path in enumerate(tqdm(test_images, desc=\"이미지 처리\")):\n",
    "#         try:\n",
    "#             # 각 이미지의 예측 결과\n",
    "#             image_results = search_drug_image(image_path)\n",
    "#             csv_rows.extend(image_results)\n",
    "\n",
    "#         except Exception as e:\n",
    "#             print(f\"이미지 처리 실패 {image_path}: {e}\")\n",
    "#             continue\n",
    "\n",
    "#     # DataFrame 생성\n",
    "#     df = pd.DataFrame(csv_rows, columns=csv_headers)\n",
    "\n",
    "#     # CSV 파일로 저장\n",
    "#     timestamp = datetime.now(__kst).strftime(\"%Y%m%d_%H%M%S\")\n",
    "#     filename = f'predictions_2way_model_{timestamp}.csv'\n",
    "#     output_path = os.path.join(drive_root(),\n",
    "#                                'codeit_ai_health_eat',\n",
    "#                                'scripts',\n",
    "#                                '김명환',\n",
    "#                                filename)\n",
    "#     df.to_csv(output_path, index=False)\n",
    "\n",
    "#     print(f\"\\n예측 결과 저장 완료:\")\n",
    "#     print(f\"- 총 이미지: {len(test_images)}개\")\n",
    "#     print(f\"- 총 검출: {len(csv_rows)}개\")\n",
    "#     print(f\"- 저장 경로: {output_path}\")\n",
    "\n",
    "#     # 결과 미리보기\n",
    "#     print(f\"\\n결과 미리보기:\")\n",
    "#     print(df.head(10))\n",
    "\n",
    "#     # 클래스별 통계\n",
    "#     print(f\"\\n클래스별 검출 통계:\")\n",
    "#     class_counts = df['category_id'].value_counts().head(10)\n",
    "#     print(class_counts)\n",
    "\n",
    "#     return df, output_path\n",
    "\n",
    "# # 실행\n",
    "# results_df, csv_path = test_all_images_to_csv()"
   ]
  },
  {
   "cell_type": "code",
   "execution_count": null,
   "metadata": {
    "executionInfo": {
     "elapsed": 1,
     "status": "ok",
     "timestamp": 1757930010719,
     "user": {
      "displayName": "dev c0z0c",
      "userId": "08071297324787696567"
     },
     "user_tz": -540
    },
    "id": "qL3kacHIYIZU"
   },
   "outputs": [],
   "source": [
    "# res = search_drug_image(test_images[0])"
   ]
  },
  {
   "cell_type": "code",
   "execution_count": null,
   "metadata": {
    "executionInfo": {
     "elapsed": 1,
     "status": "ok",
     "timestamp": 1757930010723,
     "user": {
      "displayName": "dev c0z0c",
      "userId": "08071297324787696567"
     },
     "user_tz": -540
    },
    "id": "NVAbOwSGzK-C"
   },
   "outputs": [],
   "source": [
    "# def test_all_images_to_csv():\n",
    "#     \"\"\"모든 테스트 이미지에 대해 예측하고 CSV 형태로 저장\"\"\"\n",
    "#     for i, image_path in enumerate(tqdm(test_images, desc=\"이미지 처리\")):\n",
    "#         try:\n",
    "#             # 각 이미지의 예측 결과\n",
    "#             image_results = search_drug_image(image_path)\n",
    "#         except Exception as e:\n",
    "#             print(f\"이미지 처리 실패 {image_path}: {e}\")\n",
    "#             continue\n",
    "\n",
    "# test_all_images_to_csv()\n"
   ]
  },
  {
   "cell_type": "code",
   "execution_count": null,
   "metadata": {
    "executionInfo": {
     "elapsed": 1,
     "status": "ok",
     "timestamp": 1757930010738,
     "user": {
      "displayName": "dev c0z0c",
      "userId": "08071297324787696567"
     },
     "user_tz": -540
    },
    "id": "zQ9jm1yjzK-C"
   },
   "outputs": [],
   "source": []
  }
 ],
 "metadata": {
  "accelerator": "GPU",
  "colab": {
   "gpuType": "L4",
   "machine_shape": "hm",
   "provenance": []
  },
  "kernelspec": {
   "display_name": "env_colab_250827",
   "language": "python",
   "name": "python3"
  },
  "language_info": {
   "codemirror_mode": {
    "name": "ipython",
    "version": 3
   },
   "file_extension": ".py",
   "mimetype": "text/x-python",
   "name": "python",
   "nbconvert_exporter": "python",
   "pygments_lexer": "ipython3",
   "version": "3.10.18"
  }
 },
 "nbformat": 4,
 "nbformat_minor": 0
}
